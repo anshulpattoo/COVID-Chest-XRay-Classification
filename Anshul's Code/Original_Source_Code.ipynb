{
  "nbformat": 4,
  "nbformat_minor": 0,
  "metadata": {
    "kernelspec": {
      "language": "python",
      "display_name": "Python 3",
      "name": "python3"
    },
    "language_info": {
      "pygments_lexer": "ipython3",
      "nbconvert_exporter": "python",
      "version": "3.6.4",
      "file_extension": ".py",
      "codemirror_mode": {
        "name": "ipython",
        "version": 3
      },
      "name": "python",
      "mimetype": "text/x-python"
    },
    "colab": {
      "name": "Original Source Code.ipynb",
      "provenance": [],
      "collapsed_sections": [
        "DipBCH7sya9p",
        "JBtJJ87Qya9q",
        "KHgBIyoiya9r",
        "WicxPhlpya9t",
        "HZqGgOiWya9t"
      ]
    },
    "accelerator": "GPU"
  },
  "cells": [
    {
      "cell_type": "code",
      "metadata": {
        "_uuid": "8f2839f25d086af736a60e9eeb907d3b93b6e0e5",
        "_cell_guid": "b1076dfc-b9ad-4769-8c92-a6c4dae69d19",
        "trusted": true,
        "id": "LvCoHH7yya9Z"
      },
      "source": [
        "import numpy as np\n",
        "import pandas as pd\n",
        "import matplotlib.pyplot as plt\n",
        "import seaborn as sns\n",
        "plt.style.use('fivethirtyeight')\n",
        "sns.set_style('whitegrid')\n",
        "\n",
        "import tensorflow as tf\n",
        "from tensorflow.keras.models import Sequential\n",
        "import tensorflow.keras.layers as Layers\n",
        "from tensorflow.keras.preprocessing.image import ImageDataGenerator\n",
        "from tensorflow.keras.preprocessing import image\n",
        "from PIL import Image\n",
        "\n",
        "import os\n",
        "from tqdm import tqdm\n",
        "from sklearn.model_selection import train_test_split\n",
        "\n",
        "import warnings\n",
        "warnings.filterwarnings('ignore')"
      ],
      "execution_count": 2,
      "outputs": []
    },
    {
      "cell_type": "code",
      "metadata": {
        "colab": {
          "base_uri": "https://localhost:8080/"
        },
        "id": "RlW_3-xgzP5y",
        "outputId": "075f976e-d240-4d6e-ce80-1b0b312e2e10"
      },
      "source": [
        "from google.colab import drive\n",
        "drive.mount('/content/drive')"
      ],
      "execution_count": 3,
      "outputs": [
        {
          "output_type": "stream",
          "text": [
            "Mounted at /content/drive\n"
          ],
          "name": "stdout"
        }
      ]
    },
    {
      "cell_type": "markdown",
      "metadata": {
        "id": "E9NIbGhVya9h"
      },
      "source": [
        "### DATA UTILITIES"
      ]
    },
    {
      "cell_type": "code",
      "metadata": {
        "_uuid": "d629ff2d2480ee46fbb7e2d37f6b5fab8052498a",
        "_cell_guid": "79c7e3d0-c299-4dcb-8224-4455121ee9b0",
        "trusted": true,
        "colab": {
          "base_uri": "https://localhost:8080/",
          "height": 204
        },
        "id": "6qEHL-qyya9i",
        "outputId": "55e7978e-177d-4164-c0a7-587afe7766b2"
      },
      "source": [
        "#NOTE to TA: This filepath has to be changed for you.\n",
        "df = pd.read_csv('/content/drive/MyDrive/COVID Kaggle Data/Chest_xray_Corona_Metadata.csv')\n",
        "df.head()"
      ],
      "execution_count": 4,
      "outputs": [
        {
          "output_type": "execute_result",
          "data": {
            "text/html": [
              "<div>\n",
              "<style scoped>\n",
              "    .dataframe tbody tr th:only-of-type {\n",
              "        vertical-align: middle;\n",
              "    }\n",
              "\n",
              "    .dataframe tbody tr th {\n",
              "        vertical-align: top;\n",
              "    }\n",
              "\n",
              "    .dataframe thead th {\n",
              "        text-align: right;\n",
              "    }\n",
              "</style>\n",
              "<table border=\"1\" class=\"dataframe\">\n",
              "  <thead>\n",
              "    <tr style=\"text-align: right;\">\n",
              "      <th></th>\n",
              "      <th>Unnamed: 0</th>\n",
              "      <th>X_ray_image_name</th>\n",
              "      <th>Label</th>\n",
              "      <th>Dataset_type</th>\n",
              "      <th>Label_2_Virus_category</th>\n",
              "      <th>Label_1_Virus_category</th>\n",
              "    </tr>\n",
              "  </thead>\n",
              "  <tbody>\n",
              "    <tr>\n",
              "      <th>0</th>\n",
              "      <td>0</td>\n",
              "      <td>IM-0128-0001.jpeg</td>\n",
              "      <td>Normal</td>\n",
              "      <td>TRAIN</td>\n",
              "      <td>NaN</td>\n",
              "      <td>NaN</td>\n",
              "    </tr>\n",
              "    <tr>\n",
              "      <th>1</th>\n",
              "      <td>1</td>\n",
              "      <td>IM-0127-0001.jpeg</td>\n",
              "      <td>Normal</td>\n",
              "      <td>TRAIN</td>\n",
              "      <td>NaN</td>\n",
              "      <td>NaN</td>\n",
              "    </tr>\n",
              "    <tr>\n",
              "      <th>2</th>\n",
              "      <td>2</td>\n",
              "      <td>IM-0125-0001.jpeg</td>\n",
              "      <td>Normal</td>\n",
              "      <td>TRAIN</td>\n",
              "      <td>NaN</td>\n",
              "      <td>NaN</td>\n",
              "    </tr>\n",
              "    <tr>\n",
              "      <th>3</th>\n",
              "      <td>3</td>\n",
              "      <td>IM-0122-0001.jpeg</td>\n",
              "      <td>Normal</td>\n",
              "      <td>TRAIN</td>\n",
              "      <td>NaN</td>\n",
              "      <td>NaN</td>\n",
              "    </tr>\n",
              "    <tr>\n",
              "      <th>4</th>\n",
              "      <td>4</td>\n",
              "      <td>IM-0119-0001.jpeg</td>\n",
              "      <td>Normal</td>\n",
              "      <td>TRAIN</td>\n",
              "      <td>NaN</td>\n",
              "      <td>NaN</td>\n",
              "    </tr>\n",
              "  </tbody>\n",
              "</table>\n",
              "</div>"
            ],
            "text/plain": [
              "   Unnamed: 0   X_ray_image_name  ... Label_2_Virus_category Label_1_Virus_category\n",
              "0           0  IM-0128-0001.jpeg  ...                    NaN                    NaN\n",
              "1           1  IM-0127-0001.jpeg  ...                    NaN                    NaN\n",
              "2           2  IM-0125-0001.jpeg  ...                    NaN                    NaN\n",
              "3           3  IM-0122-0001.jpeg  ...                    NaN                    NaN\n",
              "4           4  IM-0119-0001.jpeg  ...                    NaN                    NaN\n",
              "\n",
              "[5 rows x 6 columns]"
            ]
          },
          "metadata": {
            "tags": []
          },
          "execution_count": 4
        }
      ]
    },
    {
      "cell_type": "code",
      "metadata": {
        "trusted": true,
        "colab": {
          "base_uri": "https://localhost:8080/"
        },
        "id": "dXQZ0-2kya9j",
        "outputId": "42621015-a547-4c50-c09a-413c187ebb43"
      },
      "source": [
        "#Show sum of nullvalues per feature.\n",
        "df.isnull().sum()"
      ],
      "execution_count": 5,
      "outputs": [
        {
          "output_type": "execute_result",
          "data": {
            "text/plain": [
              "Unnamed: 0                   0\n",
              "X_ray_image_name             0\n",
              "Label                        0\n",
              "Dataset_type                 0\n",
              "Label_2_Virus_category    5841\n",
              "Label_1_Virus_category    1576\n",
              "dtype: int64"
            ]
          },
          "metadata": {
            "tags": []
          },
          "execution_count": 5
        }
      ]
    },
    {
      "cell_type": "code",
      "metadata": {
        "trusted": true,
        "colab": {
          "base_uri": "https://localhost:8080/"
        },
        "id": "gRE09XXVya9j",
        "outputId": "2d19a010-53a1-4b99-b17d-462777ea211c"
      },
      "source": [
        "#Show datatypes.\n",
        "df.info()"
      ],
      "execution_count": 6,
      "outputs": [
        {
          "output_type": "stream",
          "text": [
            "<class 'pandas.core.frame.DataFrame'>\n",
            "RangeIndex: 5910 entries, 0 to 5909\n",
            "Data columns (total 6 columns):\n",
            " #   Column                  Non-Null Count  Dtype \n",
            "---  ------                  --------------  ----- \n",
            " 0   Unnamed: 0              5910 non-null   int64 \n",
            " 1   X_ray_image_name        5910 non-null   object\n",
            " 2   Label                   5910 non-null   object\n",
            " 3   Dataset_type            5910 non-null   object\n",
            " 4   Label_2_Virus_category  69 non-null     object\n",
            " 5   Label_1_Virus_category  4334 non-null   object\n",
            "dtypes: int64(1), object(5)\n",
            "memory usage: 277.2+ KB\n"
          ],
          "name": "stdout"
        }
      ]
    },
    {
      "cell_type": "code",
      "metadata": {
        "trusted": true,
        "id": "CzVzyxasya9k"
      },
      "source": [
        "#Replace all null values with \"unknown\".\n",
        "df.fillna('unknown', inplace=True)\n",
        "df.isnull().sum()"
      ],
      "execution_count": null,
      "outputs": []
    },
    {
      "cell_type": "code",
      "metadata": {
        "trusted": true,
        "id": "wrv5Uv0cya9l"
      },
      "source": [
        "print(df['Label_1_Virus_category'].value_counts())\n",
        "print('='*50)\n",
        "print(df['Label_2_Virus_category'].value_counts())"
      ],
      "execution_count": null,
      "outputs": []
    },
    {
      "cell_type": "code",
      "metadata": {
        "trusted": true,
        "id": "Wtw9W7kQya9l"
      },
      "source": [
        "#Separate train data and test data.\n",
        "train_data = df[df['Dataset_type']=='TRAIN']\n",
        "test_data = df[df['Dataset_type']=='TEST']\n",
        "print('Train shape: ',train_data.shape)\n",
        "print('Test Shape: ',test_data.shape)"
      ],
      "execution_count": null,
      "outputs": []
    },
    {
      "cell_type": "code",
      "metadata": {
        "trusted": true,
        "id": "k_dMJbvTya9l"
      },
      "source": [
        "#Show a countplot.\n",
        "plt.figure(figsize=(10,5))\n",
        "sns.countplot(train_data['Label_2_Virus_category']);"
      ],
      "execution_count": null,
      "outputs": []
    },
    {
      "cell_type": "code",
      "metadata": {
        "trusted": true,
        "id": "DhItVQJRya9m"
      },
      "source": [
        "#Get the path of train and test folders. NOTE to TA: This filepath will have to be changed for you. \n",
        "train_img_path = '/content/drive/MyDrive/COVID Kaggle Data/Coronahack-Chest-XRay-Dataset/Coronahack-Chest-XRay-Dataset/train'\n",
        "test_img_path = '/content/drive/MyDrive/COVID Kaggle Data/Coronahack-Chest-XRay-Dataset/Coronahack-Chest-XRay-Dataset/test'"
      ],
      "execution_count": 11,
      "outputs": []
    },
    {
      "cell_type": "code",
      "metadata": {
        "trusted": true,
        "id": "uzlvVNvKya9m"
      },
      "source": [
        "#Show sample image.\n",
        "samp_img1 = Image.open(os.path.join(train_img_path, train_data['X_ray_image_name'][0]))\n",
        "samp_img2 = Image.open(os.path.join(train_img_path, train_data['X_ray_image_name'][22]))\n",
        "fig, ax =plt.subplots(1,2, figsize=(10,5))\n",
        "ax[0].imshow(samp_img1, cmap='gray');\n",
        "ax[1].imshow(samp_img2, cmap='gray');"
      ],
      "execution_count": null,
      "outputs": []
    },
    {
      "cell_type": "code",
      "metadata": {
        "trusted": true,
        "id": "Qv8_IPgtya9m"
      },
      "source": [
        "#Sample x-ray image of person with covid-19.\n",
        "with_covid = train_data[train_data['Label_2_Virus_category'] == 'COVID-19']\n",
        "\n",
        "#Show sample image.\n",
        "samp_img1 = Image.open(os.path.join(train_img_path, with_covid['X_ray_image_name'].iloc[8]))\n",
        "samp_img2 = Image.open(os.path.join(train_img_path, with_covid['X_ray_image_name'].iloc[15]))\n",
        "fig, ax =plt.subplots(1,2, figsize=(10,5))\n",
        "ax[0].imshow(samp_img1);\n",
        "ax[1].imshow(samp_img2);"
      ],
      "execution_count": null,
      "outputs": []
    },
    {
      "cell_type": "code",
      "metadata": {
        "trusted": true,
        "id": "KZg6c9BRya9m"
      },
      "source": [
        "#Remove pnuemonia with unknown value.\n",
        "final_train_data = train_data[(train_data['Label'] == 'Normal') | \n",
        "                              ((train_data['Label'] == 'Pnemonia') &\n",
        "                               (train_data['Label_2_Virus_category'] == 'COVID-19'))]"
      ],
      "execution_count": 14,
      "outputs": []
    },
    {
      "cell_type": "code",
      "metadata": {
        "trusted": true,
        "id": "hPITw_8Eya9n"
      },
      "source": [
        "#Add a target and class feature.\n",
        "final_train_data['class'] = final_train_data.Label.apply(lambda x: 'negative' if x=='Normal' else 'positive')\n",
        "test_data['class'] = test_data.Label.apply(lambda x: 'negative' if x=='Normal' else 'positive')\n",
        "\n",
        "final_train_data['target'] = final_train_data.Label.apply(lambda x: 0 if x=='Normal' else 1)\n",
        "test_data['target'] = test_data.Label.apply(lambda x: 0 if x=='Normal' else 1)"
      ],
      "execution_count": 15,
      "outputs": []
    },
    {
      "cell_type": "code",
      "metadata": {
        "trusted": true,
        "id": "YcFn_hx5ya9n"
      },
      "source": [
        "#Get the important features\n",
        "final_train_data = final_train_data[['X_ray_image_name', 'class', 'target', 'Label_2_Virus_category']]\n",
        "final_test_data = test_data[['X_ray_image_name', 'class', 'target']]"
      ],
      "execution_count": 16,
      "outputs": []
    },
    {
      "cell_type": "code",
      "metadata": {
        "trusted": true,
        "id": "PxFsFlvYya9n"
      },
      "source": [
        "test_data['Label'].value_counts()"
      ],
      "execution_count": null,
      "outputs": []
    },
    {
      "cell_type": "markdown",
      "metadata": {
        "id": "XB2B5g5Zya9n"
      },
      "source": [
        "### DATA AUGMENTATION"
      ]
    },
    {
      "cell_type": "code",
      "metadata": {
        "trusted": true,
        "id": "nEPGgulaya9o"
      },
      "source": [
        "#Create an imagegenerator for for augmentation.\n",
        "datagen =  ImageDataGenerator(\n",
        "  shear_range=0.2,\n",
        "  zoom_range=0.2,\n",
        ")\n",
        "\n",
        "#Function to convert image to array.\n",
        "def read_img(filename, size, path):\n",
        "    img = image.load_img(os.path.join(path, filename), target_size=size)\n",
        "    #Convert image to array.\n",
        "    img = image.img_to_array(img) / 255\n",
        "    return img"
      ],
      "execution_count": 18,
      "outputs": []
    },
    {
      "cell_type": "code",
      "metadata": {
        "trusted": true,
        "id": "nOkv_1c4ya9o"
      },
      "source": [
        "#Read a sample image.\n",
        "samp_img = read_img(final_train_data['X_ray_image_name'][0],\n",
        "                                 (224,224),\n",
        "                                 train_img_path)\n",
        "\n",
        "plt.figure(figsize=(10,10))\n",
        "plt.suptitle('Data Augmentation', fontsize=28)\n",
        "\n",
        "i = 0\n",
        "\n",
        "#Show augmented images.\n",
        "for batch in datagen.flow(tf.expand_dims(samp_img,0), batch_size=6):\n",
        "    plt.subplot(3, 3, i+1)\n",
        "    plt.grid(False)\n",
        "    plt.imshow(batch.reshape(224, 224, 3));\n",
        "    \n",
        "    if i == 8:\n",
        "        break\n",
        "    i += 1\n",
        "    \n",
        "plt.show();"
      ],
      "execution_count": null,
      "outputs": []
    },
    {
      "cell_type": "code",
      "metadata": {
        "_kg_hide-output": true,
        "trusted": true,
        "collapsed": true,
        "id": "tGlu2J4Qya9o"
      },
      "source": [
        "#Augment the images labeled with covid-19 to balance the data.\n",
        "\n",
        "corona_df = final_train_data[final_train_data['Label_2_Virus_category'] == 'COVID-19']\n",
        "with_corona_augmented = []\n",
        "\n",
        "#Create a function for augmentation.\n",
        "def augment(name):\n",
        "    img = read_img(name, (224,224), train_img_path)\n",
        "    i = 0\n",
        "    for batch in tqdm(datagen.flow(tf.expand_dims(img, 0), batch_size=32)):\n",
        "        with_corona_augmented.append(tf.squeeze(batch).numpy())\n",
        "        if i == 20:\n",
        "            break\n",
        "        i =i+1\n",
        "\n",
        "#Apply the function.\n",
        "corona_df['X_ray_image_name'].apply(augment)"
      ],
      "execution_count": null,
      "outputs": []
    },
    {
      "cell_type": "code",
      "metadata": {
        "_kg_hide-output": true,
        "trusted": true,
        "collapsed": true,
        "id": "NdUg6lgbya9o"
      },
      "source": [
        "#Extract the image from trainig data and test data: then convert it to an array.\n",
        "train_arrays = [] \n",
        "final_train_data['X_ray_image_name'].apply(lambda x: train_arrays.append(read_img(x, (224,224), train_img_path)))\n",
        "test_arrays = []\n",
        "final_test_data['X_ray_image_name'].apply(lambda x: test_arrays.append(read_img(x, (224,224), test_img_path)))"
      ],
      "execution_count": null,
      "outputs": []
    },
    {
      "cell_type": "code",
      "metadata": {
        "trusted": true,
        "id": "F4PQGaqKya9p"
      },
      "source": [
        "print(len(train_arrays))\n",
        "print(len(test_arrays))"
      ],
      "execution_count": null,
      "outputs": []
    },
    {
      "cell_type": "code",
      "metadata": {
        "trusted": true,
        "id": "Dv5eGUXvya9p"
      },
      "source": [
        "#Concatenate the training data labels and the labels for augmented images.\n",
        "y_train = np.concatenate((np.int64(final_train_data['target'].values), np.ones(len(with_corona_augmented), dtype=np.int64)))"
      ],
      "execution_count": 23,
      "outputs": []
    },
    {
      "cell_type": "markdown",
      "metadata": {
        "id": "DipBCH7sya9p"
      },
      "source": [
        "### CONVERT ALL THE DATA TO TENSORS"
      ]
    },
    {
      "cell_type": "code",
      "metadata": {
        "trusted": true,
        "id": "pFxv5sjlya9p"
      },
      "source": [
        "train_tensors = tf.convert_to_tensor(np.concatenate((np.array(train_arrays), np.array(with_corona_augmented))))\n",
        "test_tensors  = tf.convert_to_tensor(np.array(test_arrays))\n",
        "y_train_tensor = tf.convert_to_tensor(y_train)\n",
        "y_test_tensor = tf.convert_to_tensor(final_test_data['target'].values)"
      ],
      "execution_count": 24,
      "outputs": []
    },
    {
      "cell_type": "markdown",
      "metadata": {
        "id": "JBtJJ87Qya9q"
      },
      "source": [
        "### CREATE A TENSOR DATASET"
      ]
    },
    {
      "cell_type": "code",
      "metadata": {
        "trusted": true,
        "id": "Sa4an9h3ya9r"
      },
      "source": [
        "train_dataset = tf.data.Dataset.from_tensor_slices((train_tensors, y_train_tensor))\n",
        "test_dataset = tf.data.Dataset.from_tensor_slices((test_tensors, y_test_tensor))"
      ],
      "execution_count": 25,
      "outputs": []
    },
    {
      "cell_type": "code",
      "metadata": {
        "trusted": true,
        "colab": {
          "base_uri": "https://localhost:8080/",
          "height": 287
        },
        "id": "L2c-hfjgya9r",
        "outputId": "71e32e17-8909-4cf4-baf5-87707d420e45"
      },
      "source": [
        "for i,l in train_dataset.take(1):\n",
        "    plt.imshow(i);"
      ],
      "execution_count": 26,
      "outputs": [
        {
          "output_type": "display_data",
          "data": {
            "image/png": "[encoded data removed]",
            "text/plain": [
              "<Figure size 432x288 with 1 Axes>"
            ]
          },
          "metadata": {
            "tags": []
          }
        }
      ]
    },
    {
      "cell_type": "markdown",
      "metadata": {
        "id": "KHgBIyoiya9r"
      },
      "source": [
        "### GENERATE BATCHES"
      ]
    },
    {
      "cell_type": "code",
      "metadata": {
        "trusted": true,
        "colab": {
          "base_uri": "https://localhost:8080/"
        },
        "id": "chaZnUnQya9r",
        "outputId": "db289505-fbd1-4f30-8c8e-bda259f76f7f"
      },
      "source": [
        "BATCH_SIZE = 16\n",
        "BUFFER = 1000\n",
        "\n",
        "train_batches = train_dataset.shuffle(BUFFER).batch(BATCH_SIZE)\n",
        "test_batches = test_dataset.batch(BATCH_SIZE)\n",
        "\n",
        "for i,l in train_batches.take(1):\n",
        "    print('Train Shape per Batch: ',i.shape);\n",
        "for i,l in test_batches.take(1):\n",
        "    print('Test Shape per Batch: ',i.shape);"
      ],
      "execution_count": 27,
      "outputs": [
        {
          "output_type": "stream",
          "text": [
            "Train Shape per Batch:  (16, 224, 224, 3)\n",
            "Test Shape per Batch:  (16, 224, 224, 3)\n"
          ],
          "name": "stdout"
        }
      ]
    },
    {
      "cell_type": "markdown",
      "metadata": {
        "id": "wat7FJ5kya9s"
      },
      "source": [
        "### TRANSFER LEARNING NASNetMobile\n",
        "\n"
      ]
    },
    {
      "cell_type": "code",
      "metadata": {
        "_kg_hide-output": true,
        "trusted": true,
        "id": "Gu53cPrEya9s"
      },
      "source": [
        "#Define input shape.\n",
        "INPUT_SHAPE = (224,224,3) \n",
        "\n",
        "#Get the pretrained model.\n",
        "base_model = tf.keras.applications.NASNetMobile(input_shape= INPUT_SHAPE,\n",
        "                                               include_top=False,\n",
        "                                               weights='imagenet')\n",
        "\n",
        "#Freeze all layers of base_model.\n",
        "base_model.trainable = False\n",
        "base_model.summary()"
      ],
      "execution_count": null,
      "outputs": []
    },
    {
      "cell_type": "code",
      "metadata": {
        "trusted": true,
        "colab": {
          "base_uri": "https://localhost:8080/"
        },
        "id": "OG8tCC6fya9t",
        "outputId": "d37f7705-3654-4ffb-c958-ed5c544ee085"
      },
      "source": [
        "#Verify the output shape.\n",
        "for i,l in train_batches.take(1):\n",
        "    pass\n",
        "base_model(i).shape"
      ],
      "execution_count": 29,
      "outputs": [
        {
          "output_type": "execute_result",
          "data": {
            "text/plain": [
              "TensorShape([16, 7, 7, 1056])"
            ]
          },
          "metadata": {
            "tags": []
          },
          "execution_count": 29
        }
      ]
    },
    {
      "cell_type": "markdown",
      "metadata": {
        "id": "WicxPhlpya9t"
      },
      "source": [
        "### ADD LAYERS FOR IMAGE CLASSIFICATION"
      ]
    },
    {
      "cell_type": "code",
      "metadata": {
        "trusted": true,
        "id": "N_sS5eEDya9t"
      },
      "source": [
        "model = Sequential()\n",
        "model.add(base_model)\n",
        "model.add(Layers.GlobalAveragePooling2D())\n",
        "model.add(Layers.Dense(128))\n",
        "model.add(Layers.Dropout(0.2))\n",
        "model.add(Layers.Dense(1, activation = 'sigmoid'))\n",
        "model.summary()"
      ],
      "execution_count": null,
      "outputs": []
    },
    {
      "cell_type": "code",
      "metadata": {
        "trusted": true,
        "id": "C37VN8_cya9t"
      },
      "source": [
        "#Add an earlystopping callback to stop the training if the model is not learning anymore.\n",
        "callbacks = tf.keras.callbacks.EarlyStopping(monitor='val_loss', patience=2)\n",
        "\n",
        "model.compile(optimizer='adam',\n",
        "              loss = 'binary_crossentropy',\n",
        "              metrics=['accuracy'])"
      ],
      "execution_count": 38,
      "outputs": []
    },
    {
      "cell_type": "markdown",
      "metadata": {
        "id": "HZqGgOiWya9t"
      },
      "source": [
        "### FIT AND PREDICT THE MODEL"
      ]
    },
    {
      "cell_type": "code",
      "metadata": {
        "trusted": true,
        "id": "VTsX9pQLya9u"
      },
      "source": [
        "model.fit(train_batches, epochs=10, validation_data=test_batches, callbacks = [callbacks])"
      ],
      "execution_count": null,
      "outputs": []
    },
    {
      "cell_type": "code",
      "metadata": {
        "trusted": true,
        "id": "_ulS3p0Xya9v"
      },
      "source": [
        "#Predict the test data\n",
        "pred = model.predict_classes(np.array(test_arrays))"
      ],
      "execution_count": 36,
      "outputs": []
    },
    {
      "cell_type": "code",
      "metadata": {
        "trusted": true,
        "colab": {
          "base_uri": "https://localhost:8080/"
        },
        "id": "MHI08_dFya9w",
        "outputId": "a317cdba-fe5a-46fa-bcb1-0cac3eaa4e56"
      },
      "source": [
        "#Print a classification report.\n",
        "from sklearn.metrics import classification_report, confusion_matrix\n",
        "print(classification_report(test_data['target'], pred.flatten()))"
      ],
      "execution_count": 37,
      "outputs": [
        {
          "output_type": "stream",
          "text": [
            "              precision    recall  f1-score   support\n",
            "\n",
            "           0       0.46      0.98      0.63       234\n",
            "           1       0.97      0.32      0.48       390\n",
            "\n",
            "    accuracy                           0.57       624\n",
            "   macro avg       0.72      0.65      0.56       624\n",
            "weighted avg       0.78      0.57      0.54       624\n",
            "\n"
          ],
          "name": "stdout"
        }
      ]
    }
  ]
}