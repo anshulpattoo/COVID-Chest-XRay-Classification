{
  "nbformat": 4,
  "nbformat_minor": 0,
  "metadata": {
    "kernelspec": {
      "language": "python",
      "display_name": "Python 3",
      "name": "python3"
    },
    "language_info": {
      "pygments_lexer": "ipython3",
      "nbconvert_exporter": "python",
      "version": "3.6.4",
      "file_extension": ".py",
      "codemirror_mode": {
        "name": "ipython",
        "version": 3
      },
      "name": "python",
      "mimetype": "text/x-python"
    },
    "colab": {
      "name": "New_Extended_Code.ipynb",
      "provenance": [],
      "collapsed_sections": []
    },
    "accelerator": "GPU"
  },
  "cells": [
    {
      "cell_type": "code",
      "metadata": {
        "_uuid": "8f2839f25d086af736a60e9eeb907d3b93b6e0e5",
        "_cell_guid": "b1076dfc-b9ad-4769-8c92-a6c4dae69d19",
        "trusted": true,
        "id": "LvCoHH7yya9Z"
      },
      "source": [
        "#This code extends the following source code: \n",
        "#https://www.kaggle.com/delllectron/deep-learning-on-covid-19\n",
        "\n",
        "#The two datasets this model uses can be found here:\n",
        "#https://www.kaggle.com/praveengovi/coronahack-chest-xraydataset\n",
        "#https://github.com/ieee8023/covid-chestxray-dataset\n",
        "\n",
        "import numpy as np\n",
        "import pandas as pd\n",
        "import matplotlib.pyplot as plt\n",
        "import seaborn as sns\n",
        "plt.style.use('fivethirtyeight')\n",
        "sns.set_style('whitegrid')\n",
        "\n",
        "import tensorflow as tf\n",
        "from tensorflow.keras.models import Sequential\n",
        "import tensorflow.keras.layers as Layers\n",
        "from tensorflow.keras.preprocessing.image import ImageDataGenerator\n",
        "from tensorflow.keras.preprocessing import image\n",
        "from PIL import Image\n",
        "\n",
        "import os\n",
        "from tqdm import tqdm\n",
        "from sklearn.model_selection import train_test_split\n",
        "\n",
        "import warnings\n",
        "warnings.filterwarnings('ignore')"
      ],
      "execution_count": null,
      "outputs": []
    },
    {
      "cell_type": "code",
      "metadata": {
        "id": "RlW_3-xgzP5y",
        "colab": {
          "base_uri": "https://localhost:8080/"
        },
        "outputId": "03864210-3808-43d6-e5ee-2ae7a1d3dc7e"
      },
      "source": [
        "from google.colab import drive\n",
        "drive.mount('/content/drive',force_remount=True)"
      ],
      "execution_count": null,
      "outputs": [
        {
          "output_type": "stream",
          "text": [
            "Mounted at /content/drive\n"
          ],
          "name": "stdout"
        }
      ]
    },
    {
      "cell_type": "code",
      "metadata": {
        "_uuid": "d629ff2d2480ee46fbb7e2d37f6b5fab8052498a",
        "_cell_guid": "79c7e3d0-c299-4dcb-8224-4455121ee9b0",
        "trusted": true,
        "id": "6qEHL-qyya9i",
        "colab": {
          "base_uri": "https://localhost:8080/",
          "height": 204
        },
        "outputId": "ea2e54a7-453c-4424-994e-edcc20a381ff"
      },
      "source": [
        "#NOTE to TA: Type in your particular filepath here. Please be sure to access the Chest_xray_Corona_Metadata.csv file of the Corona-Hack dataset.\n",
        "df = pd.read_csv('/content/drive/MyDrive/COVID Kaggle Data/Chest_xray_Corona_Metadata.csv')\n",
        "df.head()"
      ],
      "execution_count": null,
      "outputs": [
        {
          "output_type": "execute_result",
          "data": {
            "text/html": [
              "<div>\n",
              "<style scoped>\n",
              "    .dataframe tbody tr th:only-of-type {\n",
              "        vertical-align: middle;\n",
              "    }\n",
              "\n",
              "    .dataframe tbody tr th {\n",
              "        vertical-align: top;\n",
              "    }\n",
              "\n",
              "    .dataframe thead th {\n",
              "        text-align: right;\n",
              "    }\n",
              "</style>\n",
              "<table border=\"1\" class=\"dataframe\">\n",
              "  <thead>\n",
              "    <tr style=\"text-align: right;\">\n",
              "      <th></th>\n",
              "      <th>Unnamed: 0</th>\n",
              "      <th>X_ray_image_name</th>\n",
              "      <th>Label</th>\n",
              "      <th>Dataset_type</th>\n",
              "      <th>Label_2_Virus_category</th>\n",
              "      <th>Label_1_Virus_category</th>\n",
              "    </tr>\n",
              "  </thead>\n",
              "  <tbody>\n",
              "    <tr>\n",
              "      <th>0</th>\n",
              "      <td>0</td>\n",
              "      <td>IM-0128-0001.jpeg</td>\n",
              "      <td>Normal</td>\n",
              "      <td>TRAIN</td>\n",
              "      <td>NaN</td>\n",
              "      <td>NaN</td>\n",
              "    </tr>\n",
              "    <tr>\n",
              "      <th>1</th>\n",
              "      <td>1</td>\n",
              "      <td>IM-0127-0001.jpeg</td>\n",
              "      <td>Normal</td>\n",
              "      <td>TRAIN</td>\n",
              "      <td>NaN</td>\n",
              "      <td>NaN</td>\n",
              "    </tr>\n",
              "    <tr>\n",
              "      <th>2</th>\n",
              "      <td>2</td>\n",
              "      <td>IM-0125-0001.jpeg</td>\n",
              "      <td>Normal</td>\n",
              "      <td>TRAIN</td>\n",
              "      <td>NaN</td>\n",
              "      <td>NaN</td>\n",
              "    </tr>\n",
              "    <tr>\n",
              "      <th>3</th>\n",
              "      <td>3</td>\n",
              "      <td>IM-0122-0001.jpeg</td>\n",
              "      <td>Normal</td>\n",
              "      <td>TRAIN</td>\n",
              "      <td>NaN</td>\n",
              "      <td>NaN</td>\n",
              "    </tr>\n",
              "    <tr>\n",
              "      <th>4</th>\n",
              "      <td>4</td>\n",
              "      <td>IM-0119-0001.jpeg</td>\n",
              "      <td>Normal</td>\n",
              "      <td>TRAIN</td>\n",
              "      <td>NaN</td>\n",
              "      <td>NaN</td>\n",
              "    </tr>\n",
              "  </tbody>\n",
              "</table>\n",
              "</div>"
            ],
            "text/plain": [
              "   Unnamed: 0   X_ray_image_name  ... Label_2_Virus_category Label_1_Virus_category\n",
              "0           0  IM-0128-0001.jpeg  ...                    NaN                    NaN\n",
              "1           1  IM-0127-0001.jpeg  ...                    NaN                    NaN\n",
              "2           2  IM-0125-0001.jpeg  ...                    NaN                    NaN\n",
              "3           3  IM-0122-0001.jpeg  ...                    NaN                    NaN\n",
              "4           4  IM-0119-0001.jpeg  ...                    NaN                    NaN\n",
              "\n",
              "[5 rows x 6 columns]"
            ]
          },
          "metadata": {
            "tags": []
          },
          "execution_count": 4
        }
      ]
    },
    {
      "cell_type": "markdown",
      "metadata": {
        "id": "cihRFIX0DvKH"
      },
      "source": [
        "###ADD SAMPLES FROM CORONA-HACK DATASET"
      ]
    },
    {
      "cell_type": "code",
      "metadata": {
        "trusted": true,
        "id": "DhItVQJRya9m"
      },
      "source": [
        "#Get the path of train and test folders. NOTE to TA: Type in your particular filepath here. Please be sure to access the train and test folders of the Corona-Hack dataset.\n",
        "train_img_path_one = '/content/drive/MyDrive/COVID Kaggle Data/Coronahack-Chest-XRay-Dataset/Coronahack-Chest-XRay-Dataset/train'\n",
        "test_img_path_one = '/content/drive/MyDrive/COVID Kaggle Data/Coronahack-Chest-XRay-Dataset/Coronahack-Chest-XRay-Dataset/test'"
      ],
      "execution_count": null,
      "outputs": []
    },
    {
      "cell_type": "code",
      "metadata": {
        "id": "jPrfSV_JHE6p"
      },
      "source": [
        "#Separate pre-set train and test data into respective DataFrames.\n",
        "train_data = df[df['Dataset_type']=='TRAIN']\n",
        "test_data = df[df['Dataset_type']=='TEST']"
      ],
      "execution_count": null,
      "outputs": []
    },
    {
      "cell_type": "code",
      "metadata": {
        "trusted": true,
        "id": "KZg6c9BRya9m"
      },
      "source": [
        "#Remove pneumonia with unknown value (i.e. unknown diagnosis of COVID-19). Our classification task only \n",
        "#compares a patient with COVID-19 and a completely healthy patient. Other kinds of pneumonias are not taken\n",
        "#into consideration.\n",
        "train_data = train_data[(train_data['Label'] == 'Normal') | \n",
        "                              ((train_data['Label'] == 'Pnemonia') &\n",
        "                               (train_data['Label_2_Virus_category'] == 'COVID-19'))]\n",
        "test_data = test_data[(test_data['Label'] == 'Normal') | \n",
        "                              ((test_data['Label'] == 'Pnemonia') &\n",
        "                               (test_data['Label_2_Virus_category'] == 'COVID-19'))]"
      ],
      "execution_count": null,
      "outputs": []
    },
    {
      "cell_type": "code",
      "metadata": {
        "colab": {
          "base_uri": "https://localhost:8080/"
        },
        "id": "E1VPnqUdKHRD",
        "outputId": "3b8d1705-e11a-4189-9fa7-3028e5ffef07"
      },
      "source": [
        "#Fill in all null entries of Label_2_Virus_category as \"N/A\" as in \"Not Applicable\". \n",
        "#All such records are healthy patients, and thus do not have a corresponding entry for Label_2_Virus_category. \n",
        "train_data.fillna('N/A', inplace=True)\n",
        "train_data.isnull().sum()\n",
        "\n",
        "test_data.fillna('N/A', inplace=True)\n",
        "test_data.isnull().sum()"
      ],
      "execution_count": null,
      "outputs": [
        {
          "output_type": "execute_result",
          "data": {
            "text/plain": [
              "Unnamed: 0                0\n",
              "X_ray_image_name          0\n",
              "Label                     0\n",
              "Dataset_type              0\n",
              "Label_2_Virus_category    0\n",
              "Label_1_Virus_category    0\n",
              "dtype: int64"
            ]
          },
          "metadata": {
            "tags": []
          },
          "execution_count": 8
        }
      ]
    },
    {
      "cell_type": "code",
      "metadata": {
        "trusted": true,
        "id": "hPITw_8Eya9n"
      },
      "source": [
        "#Add a target and class feature.\n",
        "train_data['class'] = train_data.Label.apply(lambda x: 'negative' if x=='Normal' else 'positive')\n",
        "test_data['class'] = test_data.Label.apply(lambda x: 'negative' if x=='Normal' else 'positive')\n",
        "\n",
        "train_data['target'] = train_data.Label.apply(lambda x: 0 if x=='Normal' else 1)\n",
        "test_data['target'] = test_data.Label.apply(lambda x: 0 if x=='Normal' else 1)"
      ],
      "execution_count": null,
      "outputs": []
    },
    {
      "cell_type": "code",
      "metadata": {
        "trusted": true,
        "id": "YcFn_hx5ya9n"
      },
      "source": [
        "#Get the important features.\n",
        "train_data = train_data[['X_ray_image_name', 'class', 'target', 'Label_2_Virus_category']]\n",
        "test_data = test_data[['X_ray_image_name', 'class', 'target', 'Label_2_Virus_category']]"
      ],
      "execution_count": null,
      "outputs": []
    },
    {
      "cell_type": "code",
      "metadata": {
        "trusted": true,
        "id": "PxFsFlvYya9n",
        "colab": {
          "base_uri": "https://localhost:8080/"
        },
        "outputId": "647cde32-b163-4cf8-e288-2eab907f8698"
      },
      "source": [
        "print(train_data['class'].value_counts())\n",
        "print() #Print a new line. \n",
        "print(test_data['class'].value_counts())\n",
        "\n",
        "#It is clear that the test set has no COVID images, and that there is a very small number of such images generally. This is seen in the print below."
      ],
      "execution_count": null,
      "outputs": [
        {
          "output_type": "stream",
          "text": [
            "negative    1342\n",
            "positive      58\n",
            "Name: class, dtype: int64\n",
            "\n",
            "negative    234\n",
            "Name: class, dtype: int64\n"
          ],
          "name": "stdout"
        }
      ]
    },
    {
      "cell_type": "code",
      "metadata": {
        "trusted": true,
        "id": "nEPGgulaya9o"
      },
      "source": [
        "#Function to convert image to array.\n",
        "def read_img(filename, size, path):\n",
        "    img = image.load_img(os.path.join(path, filename), target_size=size)\n",
        "    #Convert image to array.\n",
        "    img = image.img_to_array(img) / 255\n",
        "    return img"
      ],
      "execution_count": null,
      "outputs": []
    },
    {
      "cell_type": "code",
      "metadata": {
        "_kg_hide-output": true,
        "trusted": true,
        "id": "NdUg6lgbya9o"
      },
      "source": [
        "#Extract the image from training data and test data, then convert it to an array.\n",
        "train_arrays = [] \n",
        "train_data['X_ray_image_name'].apply(lambda x: train_arrays.append(read_img(x, (224,224), train_img_path_one)))\n",
        "test_arrays = []\n",
        "test_data['X_ray_image_name'].apply(lambda x: test_arrays.append(read_img(x, (224,224), test_img_path_one)))"
      ],
      "execution_count": null,
      "outputs": []
    },
    {
      "cell_type": "code",
      "metadata": {
        "colab": {
          "base_uri": "https://localhost:8080/"
        },
        "id": "kbmJ7vdOE2DL",
        "outputId": "00747edd-b23b-4975-9a7d-c6d230f41ec6"
      },
      "source": [
        "#Take final_train_data and final_test_data and combine into single dataset.\n",
        "x_dataset = np.concatenate((np.asarray(train_arrays), np.asarray(test_arrays)))\n",
        "y_dataset = np.concatenate((train_data['target'].values, test_data['target'].values))\n",
        "\n",
        "#Verify that the lengths of x_dataset and y_dataset are equivalent.\n",
        "print(len(x_dataset))\n",
        "print(len(y_dataset))\n",
        "\n",
        "#The dataset is extremely imbalanced. Based on the excel sheet, there are only 58 COVID samples. Thus, COVID samples from an alternate dataset are added as well."
      ],
      "execution_count": null,
      "outputs": [
        {
          "output_type": "stream",
          "text": [
            "1634\n",
            "1634\n"
          ],
          "name": "stdout"
        }
      ]
    },
    {
      "cell_type": "markdown",
      "metadata": {
        "id": "NbqQNseh9pQa"
      },
      "source": [
        "###ADD COVID SAMPLES FROM DR. COHEN'S DATASET"
      ]
    },
    {
      "cell_type": "code",
      "metadata": {
        "id": "Hx5Xm6Ba9oW1"
      },
      "source": [
        "#Load in the metadata.csv file of Dr. Cohen's COVID image collection. NOTE to TA: Type in your particular filepath here. \n",
        "df = pd.read_csv('/content/drive/MyDrive/covid-chestxray-dataset/metadata.csv')\n",
        "\n",
        "#Get the relevant features of the dataset.\n",
        "more_x_data = df[['finding', 'filename', 'modality']]\n",
        "\n",
        "new_data_arrays = []\n",
        "new_y_data_arrays = []\n",
        "\n",
        "#Load in the data. Only load COVID samples.\n",
        "img_path_two = '/content/drive/MyDrive/covid-chestxray-dataset/images'\n",
        "for i in range(len(more_x_data)):\n",
        "  if ((more_x_data.iloc[i]['finding'] == 'Pneumonia/Viral/COVID-19') and (more_x_data.iloc[i]['modality'] == 'X-ray')):\n",
        "    new_data_arrays.append(read_img(more_x_data.iloc[i]['filename'], (224,224), img_path_two))\n",
        "    new_y_data_arrays.append(1)\n",
        "  "
      ],
      "execution_count": null,
      "outputs": []
    },
    {
      "cell_type": "code",
      "metadata": {
        "id": "KsMcCvnyExir",
        "colab": {
          "base_uri": "https://localhost:8080/"
        },
        "outputId": "6a73f81f-b718-4734-e76d-07f05745b4b7"
      },
      "source": [
        "#Concatenate this dataset with existing dataset. Concatenate new inputs with existing inputs, and new targets with existing targets.\n",
        "x_dataset = np.concatenate((x_dataset, np.asarray(new_data_arrays)))\n",
        "y_dataset = np.concatenate((y_dataset, np.asarray(new_y_data_arrays)))\n",
        "\n",
        "#Print the number of COVID samples. We notice that there are only 562 COVID samples out of a total dataset of 2138.\n",
        "print(np.count_nonzero(y_dataset == 1))\n",
        "print(len(y_dataset))"
      ],
      "execution_count": null,
      "outputs": [
        {
          "output_type": "stream",
          "text": [
            "562\n",
            "2138\n"
          ],
          "name": "stdout"
        }
      ]
    },
    {
      "cell_type": "markdown",
      "metadata": {
        "id": "XB2B5g5Zya9n"
      },
      "source": [
        "### ADD MORE COVID SAMPLES WITH DATA AUGMENTATION"
      ]
    },
    {
      "cell_type": "code",
      "metadata": {
        "_kg_hide-output": true,
        "trusted": true,
        "collapsed": true,
        "id": "tGlu2J4Qya9o"
      },
      "source": [
        "#Create a imagegenerator for for augmentation.\n",
        "datagen = ImageDataGenerator(\n",
        "  rotation_range = 40,\n",
        "  width_shift_range = 0.2,\n",
        "  height_shift_range = 0.2,\n",
        "  horizontal_flip = True,\n",
        "  shear_range=0.2,\n",
        "  zoom_range=0.2\n",
        ")\n",
        "\n",
        "#Augment the images labeled with covid-19 to balance the data.\n",
        "with_corona_augmented = []\n",
        "\n",
        "for i in range(len(x_dataset)):\n",
        "  #Only consider a COVID sample, as that is what is being augmented. \n",
        "  if y_dataset[i] == 1:\n",
        "    x = x_dataset[i].reshape((1,) + x_dataset[i].shape)\n",
        "    for batch in datagen.flow(x, batch_size = 4):\n",
        "      with_corona_augmented.append(batch)\n",
        "      i = i+1\n",
        "      if i > 20:\n",
        "        break\n"
      ],
      "execution_count": null,
      "outputs": []
    },
    {
      "cell_type": "code",
      "metadata": {
        "colab": {
          "base_uri": "https://localhost:8080/"
        },
        "id": "N48VI-yMeKYJ",
        "outputId": "43b5e192-55be-4ae2-b655-609f2560c044"
      },
      "source": [
        "#Remove extra dimension from with_corona_augmented.\n",
        "with_corona_augmented = np.asarray(with_corona_augmented).squeeze()\n",
        "\n",
        "#Verify that the input shape of a sample image is (224, 224, 3).\n",
        "print(np.asarray(with_corona_augmented)[0].shape)"
      ],
      "execution_count": null,
      "outputs": [
        {
          "output_type": "stream",
          "text": [
            "(224, 224, 3)\n"
          ],
          "name": "stdout"
        }
      ]
    },
    {
      "cell_type": "code",
      "metadata": {
        "trusted": true,
        "id": "Dv5eGUXvya9p"
      },
      "source": [
        "#Concatenate the datasets.\n",
        "x_dataset = np.concatenate((x_dataset, with_corona_augmented))\n",
        "y_dataset = np.concatenate((y_dataset, np.ones(len(with_corona_augmented))))"
      ],
      "execution_count": null,
      "outputs": []
    },
    {
      "cell_type": "code",
      "metadata": {
        "colab": {
          "base_uri": "https://localhost:8080/"
        },
        "id": "r9gDU7uAgJsk",
        "outputId": "b8e53975-55ea-4bf9-9706-81f5c6afbd89"
      },
      "source": [
        "#Print the number of COVID samples. We notice that there are only 1124 COVID samples out of a total dataset of 2700.\n",
        "#This is sufficient.\n",
        "print(np.count_nonzero(y_dataset == 1))\n",
        "print(len(y_dataset))"
      ],
      "execution_count": null,
      "outputs": [
        {
          "output_type": "stream",
          "text": [
            "1124\n",
            "2700\n"
          ],
          "name": "stdout"
        }
      ]
    },
    {
      "cell_type": "markdown",
      "metadata": {
        "id": "t1TXY2mcHzgS"
      },
      "source": [
        "###SEPARATE FINAL DATASET INTO TRAINING AND TEST SET"
      ]
    },
    {
      "cell_type": "code",
      "metadata": {
        "trusted": true,
        "id": "Wtw9W7kQya9l"
      },
      "source": [
        "#Separate train data and test data.\n",
        "from sklearn.model_selection import train_test_split\n",
        "trainX, testX, trainY, testY = train_test_split(x_dataset, y_dataset, test_size = 0.3)"
      ],
      "execution_count": null,
      "outputs": []
    },
    {
      "cell_type": "markdown",
      "metadata": {
        "id": "DipBCH7sya9p"
      },
      "source": [
        "### CONVERT ALL THE DATA TO TENSORS"
      ]
    },
    {
      "cell_type": "code",
      "metadata": {
        "trusted": true,
        "id": "pFxv5sjlya9p"
      },
      "source": [
        "train_tensors = tf.convert_to_tensor(trainX)\n",
        "test_tensors  = tf.convert_to_tensor(testX)\n",
        "y_train_tensor = tf.convert_to_tensor(trainY)\n",
        "y_test_tensor = tf.convert_to_tensor(testY)"
      ],
      "execution_count": null,
      "outputs": []
    },
    {
      "cell_type": "markdown",
      "metadata": {
        "id": "JBtJJ87Qya9q"
      },
      "source": [
        "### CREATE A TENSOR DATASET"
      ]
    },
    {
      "cell_type": "code",
      "metadata": {
        "trusted": true,
        "id": "Sa4an9h3ya9r"
      },
      "source": [
        "train_dataset = tf.data.Dataset.from_tensor_slices((train_tensors, y_train_tensor))\n",
        "test_dataset = tf.data.Dataset.from_tensor_slices((test_tensors, y_test_tensor))"
      ],
      "execution_count": null,
      "outputs": []
    },
    {
      "cell_type": "markdown",
      "metadata": {
        "id": "KHgBIyoiya9r"
      },
      "source": [
        "### GENERATE BATCHES"
      ]
    },
    {
      "cell_type": "code",
      "metadata": {
        "trusted": true,
        "id": "chaZnUnQya9r",
        "colab": {
          "base_uri": "https://localhost:8080/"
        },
        "outputId": "8a979a8f-df4b-4432-f9e6-347702797dfb"
      },
      "source": [
        "BATCH_SIZE = 16\n",
        "BUFFER = 1000\n",
        "\n",
        "train_batches = train_dataset.shuffle(BUFFER).batch(BATCH_SIZE)\n",
        "test_batches = test_dataset.batch(BATCH_SIZE)\n",
        "\n",
        "for i,l in train_batches.take(1):\n",
        "    print('Train Shape per Batch: ',i.shape);\n",
        "for i,l in test_batches.take(1):\n",
        "    print('Test Shape per Batch: ',i.shape);"
      ],
      "execution_count": null,
      "outputs": [
        {
          "output_type": "stream",
          "text": [
            "Train Shape per Batch:  (16, 224, 224, 3)\n",
            "Test Shape per Batch:  (16, 224, 224, 3)\n"
          ],
          "name": "stdout"
        }
      ]
    },
    {
      "cell_type": "markdown",
      "metadata": {
        "id": "wat7FJ5kya9s"
      },
      "source": [
        "\n",
        "### ATTEMPT OF POSSIBLE WAYS TO EXTEND SOURCE CODE\n",
        "The following cell uses the `kerastuner` library to explore good parameter values for a dense layer. It is clear from the printed results that 128 is a strong value. This is the same as the original value.\n"
      ]
    },
    {
      "cell_type": "markdown",
      "metadata": {
        "id": "N1rRxRWuj0Sg"
      },
      "source": [
        "Final extension of source code below."
      ]
    },
    {
      "cell_type": "code",
      "metadata": {
        "id": "5t56xEo6g2A8",
        "colab": {
          "base_uri": "https://localhost:8080/"
        },
        "outputId": "51e5782a-159d-42c3-d443-fd70c5397a38"
      },
      "source": [
        "from tensorflow import keras\n",
        "\n",
        "INPUT_SHAPE = (224,224,3) \n",
        "\n",
        "#Get the pretrained model.\n",
        "base_model = tf.keras.applications.NASNetMobile(input_shape= INPUT_SHAPE,\n",
        "                                              include_top=False,\n",
        "                                              weights='imagenet')\n",
        "\n",
        "for layer in base_model.layers:\n",
        "  if layer.name == 'separable_conv_2_bn_normal_left':\n",
        "    break\n",
        "  layer.trainable = False\n",
        "\n",
        "\n",
        "model = Sequential()\n",
        "model.add(base_model)\n",
        "model.add(Layers.GlobalAveragePooling2D())\n",
        "model.add(Layers.Dense(192))\n",
        "model.add(Layers.Dropout(0.23))\n",
        "model.add(Layers.Dense(112))\n",
        "model.add(Layers.Dropout(0.2))\n",
        "\n",
        "model.add(Layers.Dense(64))\n",
        "model.add(Layers.Dropout(0.2))\n",
        "\n",
        "model.add(Layers.Dense(32))\n",
        "model.add(Layers.Dropout(0.2))\n",
        "\n",
        "model.add(Layers.Dense(16))\n",
        "model.add(Layers.Dropout(0.2))\n",
        "\n",
        "model.add(Layers.Dense(16))\n",
        "model.add(Layers.Dropout(0.2))\n",
        "\n",
        "model.add(Layers.Dense(1, activation = 'sigmoid'))\n",
        "\n",
        "learning_rate = 0.005\n",
        "decay_rate = learning_rate / epochs\n",
        "\n",
        "model.compile(keras.optimizers.Adam(learning_rate=learning_rate,\n",
        "                                                decay = (0.005/10)),\n",
        "            loss = 'binary_crossentropy',\n",
        "            metrics = [keras.metrics.AUC(name='auc'), 'accuracy'])\n",
        "\n",
        "\n",
        "history = model.fit(train_batches, epochs=3, validation_data=test_batches)\n",
        "\n"
      ],
      "execution_count": null,
      "outputs": [
        {
          "output_type": "stream",
          "text": [
            "Epoch 1/3\n",
            "119/119 [==============================] - 12s 100ms/step - loss: 1.0890 - auc: 0.9483 - accuracy: 0.9339 - val_loss: 0.7826 - val_auc: 0.9816 - val_accuracy: 0.9802\n",
            "Epoch 2/3\n",
            "119/119 [==============================] - 8s 68ms/step - loss: 0.8635 - auc: 0.9711 - accuracy: 0.9630 - val_loss: 0.3737 - val_auc: 0.9877 - val_accuracy: 0.9852\n",
            "Epoch 3/3\n",
            "119/119 [==============================] - 8s 69ms/step - loss: 0.3613 - auc: 0.9836 - accuracy: 0.9783 - val_loss: 0.0736 - val_auc: 0.9953 - val_accuracy: 0.9914\n"
          ],
          "name": "stdout"
        }
      ]
    },
    {
      "cell_type": "code",
      "metadata": {
        "colab": {
          "base_uri": "https://localhost:8080/",
          "height": 542
        },
        "id": "bv-MnHHnhtn_",
        "outputId": "4222b01b-5396-40d6-f639-cbb4bcd84db9"
      },
      "source": [
        "#Plotting the evaluation metrics\n",
        "import plotly.graph_objects as go\n",
        "import plotly.express as px\n",
        "fig = go.Figure()\n",
        "fig.add_trace(go.Scatter(x=list(range(1,11)), y=history.history['auc'],\n",
        "                         line=dict(color='firebrick', width=2, dash='dash'), name='AUC'))\n",
        "fig.add_trace(go.Scatter(x=list(range(1,11)), y=history.history['val_auc'],\n",
        "                         line=dict(color='turquoise', width=2), name='validation AUC'))\n",
        "\n",
        "fig.add_trace(go.Scatter(x=list(range(1,11)), y=history.history['accuracy'],\n",
        "                         line=dict(color='orange', width=2, dash='dash'), name='accuracy'))\n",
        "fig.add_trace(go.Scatter(x=list(range(1,11)), y=history.history['val_accuracy'],\n",
        "                         line=dict(color='green', width=2), name='validation accuracy'))\n",
        "\n",
        "fig.update_layout(title_text='Evaluation Metrics', font_size=15, xaxis_title='Epochs')\n",
        "fig.show()"
      ],
      "execution_count": null,
      "outputs": [
        {
          "output_type": "display_data",
          "data": {
            "text/html": [
              "<html>\n",
              "<head><meta charset=\"utf-8\" /></head>\n",
              "<body>\n",
              "    <div>\n",
              "            <script src=\"https://cdnjs.cloudflare.com/ajax/libs/mathjax/2.7.5/MathJax.js?config=TeX-AMS-MML_SVG\"></script><script type=\"text/javascript\">if (window.MathJax) {MathJax.Hub.Config({SVG: {font: \"STIX-Web\"}});}</script>\n",
              "                <script type=\"text/javascript\">window.PlotlyConfig = {MathJaxConfig: 'local'};</script>\n",
              "        <script src=\"https://cdn.plot.ly/plotly-latest.min.js\"></script>    \n",
              "            <div id=\"3816cde7-173e-4c3b-b23e-1dfa01bb3419\" class=\"plotly-graph-div\" style=\"height:525px; width:100%;\"></div>\n",
              "            <script type=\"text/javascript\">\n",
              "                \n",
              "                    window.PLOTLYENV=window.PLOTLYENV || {};\n",
              "                    \n",
              "                if (document.getElementById(\"3816cde7-173e-4c3b-b23e-1dfa01bb3419\")) {\n",
              "                    Plotly.newPlot(\n",
              "                        '3816cde7-173e-4c3b-b23e-1dfa01bb3419',\n",
              "                        [{\"line\": {\"color\": \"firebrick\", \"dash\": \"dash\", \"width\": 2}, \"name\": \"AUC\", \"type\": \"scatter\", \"x\": [1, 2, 3, 4, 5, 6, 7, 8, 9, 10], \"y\": [0.9482791423797607, 0.9711034297943115, 0.9835679531097412]}, {\"line\": {\"color\": \"turquoise\", \"width\": 2}, \"name\": \"validation AUC\", \"type\": \"scatter\", \"x\": [1, 2, 3, 4, 5, 6, 7, 8, 9, 10], \"y\": [0.9815744161605835, 0.9876530766487122, 0.9952577948570251]}, {\"line\": {\"color\": \"orange\", \"dash\": \"dash\", \"width\": 2}, \"name\": \"accuracy\", \"type\": \"scatter\", \"x\": [1, 2, 3, 4, 5, 6, 7, 8, 9, 10], \"y\": [0.9338624477386475, 0.9629629850387573, 0.9783068895339966]}, {\"line\": {\"color\": \"green\", \"width\": 2}, \"name\": \"validation accuracy\", \"type\": \"scatter\", \"x\": [1, 2, 3, 4, 5, 6, 7, 8, 9, 10], \"y\": [0.980246901512146, 0.9851852059364319, 0.9913580417633057]}],\n",
              "                        {\"font\": {\"size\": 15}, \"template\": {\"data\": {\"bar\": [{\"error_x\": {\"color\": \"#2a3f5f\"}, \"error_y\": {\"color\": \"#2a3f5f\"}, \"marker\": {\"line\": {\"color\": \"#E5ECF6\", \"width\": 0.5}}, \"type\": \"bar\"}], \"barpolar\": [{\"marker\": {\"line\": {\"color\": \"#E5ECF6\", \"width\": 0.5}}, \"type\": \"barpolar\"}], \"carpet\": [{\"aaxis\": {\"endlinecolor\": \"#2a3f5f\", \"gridcolor\": \"white\", \"linecolor\": \"white\", \"minorgridcolor\": \"white\", \"startlinecolor\": \"#2a3f5f\"}, \"baxis\": {\"endlinecolor\": \"#2a3f5f\", \"gridcolor\": \"white\", \"linecolor\": \"white\", \"minorgridcolor\": \"white\", \"startlinecolor\": \"#2a3f5f\"}, \"type\": \"carpet\"}], \"choropleth\": [{\"colorbar\": {\"outlinewidth\": 0, \"ticks\": \"\"}, \"type\": \"choropleth\"}], \"contour\": [{\"colorbar\": {\"outlinewidth\": 0, \"ticks\": \"\"}, \"colorscale\": [[0.0, \"#0d0887\"], [0.1111111111111111, \"#46039f\"], [0.2222222222222222, \"#7201a8\"], [0.3333333333333333, \"#9c179e\"], [0.4444444444444444, \"#bd3786\"], [0.5555555555555556, \"#d8576b\"], [0.6666666666666666, \"#ed7953\"], [0.7777777777777778, \"#fb9f3a\"], [0.8888888888888888, \"#fdca26\"], [1.0, \"#f0f921\"]], \"type\": \"contour\"}], \"contourcarpet\": [{\"colorbar\": {\"outlinewidth\": 0, \"ticks\": \"\"}, \"type\": \"contourcarpet\"}], \"heatmap\": [{\"colorbar\": {\"outlinewidth\": 0, \"ticks\": \"\"}, \"colorscale\": [[0.0, \"#0d0887\"], [0.1111111111111111, \"#46039f\"], [0.2222222222222222, \"#7201a8\"], [0.3333333333333333, \"#9c179e\"], [0.4444444444444444, \"#bd3786\"], [0.5555555555555556, \"#d8576b\"], [0.6666666666666666, \"#ed7953\"], [0.7777777777777778, \"#fb9f3a\"], [0.8888888888888888, \"#fdca26\"], [1.0, \"#f0f921\"]], \"type\": \"heatmap\"}], \"heatmapgl\": [{\"colorbar\": {\"outlinewidth\": 0, \"ticks\": \"\"}, \"colorscale\": [[0.0, \"#0d0887\"], [0.1111111111111111, \"#46039f\"], [0.2222222222222222, \"#7201a8\"], [0.3333333333333333, \"#9c179e\"], [0.4444444444444444, \"#bd3786\"], [0.5555555555555556, \"#d8576b\"], [0.6666666666666666, \"#ed7953\"], [0.7777777777777778, \"#fb9f3a\"], [0.8888888888888888, \"#fdca26\"], [1.0, \"#f0f921\"]], \"type\": \"heatmapgl\"}], \"histogram\": [{\"marker\": {\"colorbar\": {\"outlinewidth\": 0, \"ticks\": \"\"}}, \"type\": \"histogram\"}], \"histogram2d\": [{\"colorbar\": {\"outlinewidth\": 0, \"ticks\": \"\"}, \"colorscale\": [[0.0, \"#0d0887\"], [0.1111111111111111, \"#46039f\"], [0.2222222222222222, \"#7201a8\"], [0.3333333333333333, \"#9c179e\"], [0.4444444444444444, \"#bd3786\"], [0.5555555555555556, \"#d8576b\"], [0.6666666666666666, \"#ed7953\"], [0.7777777777777778, \"#fb9f3a\"], [0.8888888888888888, \"#fdca26\"], [1.0, \"#f0f921\"]], \"type\": \"histogram2d\"}], \"histogram2dcontour\": [{\"colorbar\": {\"outlinewidth\": 0, \"ticks\": \"\"}, \"colorscale\": [[0.0, \"#0d0887\"], [0.1111111111111111, \"#46039f\"], [0.2222222222222222, \"#7201a8\"], [0.3333333333333333, \"#9c179e\"], [0.4444444444444444, \"#bd3786\"], [0.5555555555555556, \"#d8576b\"], [0.6666666666666666, \"#ed7953\"], [0.7777777777777778, \"#fb9f3a\"], [0.8888888888888888, \"#fdca26\"], [1.0, \"#f0f921\"]], \"type\": \"histogram2dcontour\"}], \"mesh3d\": [{\"colorbar\": {\"outlinewidth\": 0, \"ticks\": \"\"}, \"type\": \"mesh3d\"}], \"parcoords\": [{\"line\": {\"colorbar\": {\"outlinewidth\": 0, \"ticks\": \"\"}}, \"type\": \"parcoords\"}], \"pie\": [{\"automargin\": true, \"type\": \"pie\"}], \"scatter\": [{\"marker\": {\"colorbar\": {\"outlinewidth\": 0, \"ticks\": \"\"}}, \"type\": \"scatter\"}], \"scatter3d\": [{\"line\": {\"colorbar\": {\"outlinewidth\": 0, \"ticks\": \"\"}}, \"marker\": {\"colorbar\": {\"outlinewidth\": 0, \"ticks\": \"\"}}, \"type\": \"scatter3d\"}], \"scattercarpet\": [{\"marker\": {\"colorbar\": {\"outlinewidth\": 0, \"ticks\": \"\"}}, \"type\": \"scattercarpet\"}], \"scattergeo\": [{\"marker\": {\"colorbar\": {\"outlinewidth\": 0, \"ticks\": \"\"}}, \"type\": \"scattergeo\"}], \"scattergl\": [{\"marker\": {\"colorbar\": {\"outlinewidth\": 0, \"ticks\": \"\"}}, \"type\": \"scattergl\"}], \"scattermapbox\": [{\"marker\": {\"colorbar\": {\"outlinewidth\": 0, \"ticks\": \"\"}}, \"type\": \"scattermapbox\"}], \"scatterpolar\": [{\"marker\": {\"colorbar\": {\"outlinewidth\": 0, \"ticks\": \"\"}}, \"type\": \"scatterpolar\"}], \"scatterpolargl\": [{\"marker\": {\"colorbar\": {\"outlinewidth\": 0, \"ticks\": \"\"}}, \"type\": \"scatterpolargl\"}], \"scatterternary\": [{\"marker\": {\"colorbar\": {\"outlinewidth\": 0, \"ticks\": \"\"}}, \"type\": \"scatterternary\"}], \"surface\": [{\"colorbar\": {\"outlinewidth\": 0, \"ticks\": \"\"}, \"colorscale\": [[0.0, \"#0d0887\"], [0.1111111111111111, \"#46039f\"], [0.2222222222222222, \"#7201a8\"], [0.3333333333333333, \"#9c179e\"], [0.4444444444444444, \"#bd3786\"], [0.5555555555555556, \"#d8576b\"], [0.6666666666666666, \"#ed7953\"], [0.7777777777777778, \"#fb9f3a\"], [0.8888888888888888, \"#fdca26\"], [1.0, \"#f0f921\"]], \"type\": \"surface\"}], \"table\": [{\"cells\": {\"fill\": {\"color\": \"#EBF0F8\"}, \"line\": {\"color\": \"white\"}}, \"header\": {\"fill\": {\"color\": \"#C8D4E3\"}, \"line\": {\"color\": \"white\"}}, \"type\": \"table\"}]}, \"layout\": {\"annotationdefaults\": {\"arrowcolor\": \"#2a3f5f\", \"arrowhead\": 0, \"arrowwidth\": 1}, \"coloraxis\": {\"colorbar\": {\"outlinewidth\": 0, \"ticks\": \"\"}}, \"colorscale\": {\"diverging\": [[0, \"#8e0152\"], [0.1, \"#c51b7d\"], [0.2, \"#de77ae\"], [0.3, \"#f1b6da\"], [0.4, \"#fde0ef\"], [0.5, \"#f7f7f7\"], [0.6, \"#e6f5d0\"], [0.7, \"#b8e186\"], [0.8, \"#7fbc41\"], [0.9, \"#4d9221\"], [1, \"#276419\"]], \"sequential\": [[0.0, \"#0d0887\"], [0.1111111111111111, \"#46039f\"], [0.2222222222222222, \"#7201a8\"], [0.3333333333333333, \"#9c179e\"], [0.4444444444444444, \"#bd3786\"], [0.5555555555555556, \"#d8576b\"], [0.6666666666666666, \"#ed7953\"], [0.7777777777777778, \"#fb9f3a\"], [0.8888888888888888, \"#fdca26\"], [1.0, \"#f0f921\"]], \"sequentialminus\": [[0.0, \"#0d0887\"], [0.1111111111111111, \"#46039f\"], [0.2222222222222222, \"#7201a8\"], [0.3333333333333333, \"#9c179e\"], [0.4444444444444444, \"#bd3786\"], [0.5555555555555556, \"#d8576b\"], [0.6666666666666666, \"#ed7953\"], [0.7777777777777778, \"#fb9f3a\"], [0.8888888888888888, \"#fdca26\"], [1.0, \"#f0f921\"]]}, \"colorway\": [\"#636efa\", \"#EF553B\", \"#00cc96\", \"#ab63fa\", \"#FFA15A\", \"#19d3f3\", \"#FF6692\", \"#B6E880\", \"#FF97FF\", \"#FECB52\"], \"font\": {\"color\": \"#2a3f5f\"}, \"geo\": {\"bgcolor\": \"white\", \"lakecolor\": \"white\", \"landcolor\": \"#E5ECF6\", \"showlakes\": true, \"showland\": true, \"subunitcolor\": \"white\"}, \"hoverlabel\": {\"align\": \"left\"}, \"hovermode\": \"closest\", \"mapbox\": {\"style\": \"light\"}, \"paper_bgcolor\": \"white\", \"plot_bgcolor\": \"#E5ECF6\", \"polar\": {\"angularaxis\": {\"gridcolor\": \"white\", \"linecolor\": \"white\", \"ticks\": \"\"}, \"bgcolor\": \"#E5ECF6\", \"radialaxis\": {\"gridcolor\": \"white\", \"linecolor\": \"white\", \"ticks\": \"\"}}, \"scene\": {\"xaxis\": {\"backgroundcolor\": \"#E5ECF6\", \"gridcolor\": \"white\", \"gridwidth\": 2, \"linecolor\": \"white\", \"showbackground\": true, \"ticks\": \"\", \"zerolinecolor\": \"white\"}, \"yaxis\": {\"backgroundcolor\": \"#E5ECF6\", \"gridcolor\": \"white\", \"gridwidth\": 2, \"linecolor\": \"white\", \"showbackground\": true, \"ticks\": \"\", \"zerolinecolor\": \"white\"}, \"zaxis\": {\"backgroundcolor\": \"#E5ECF6\", \"gridcolor\": \"white\", \"gridwidth\": 2, \"linecolor\": \"white\", \"showbackground\": true, \"ticks\": \"\", \"zerolinecolor\": \"white\"}}, \"shapedefaults\": {\"line\": {\"color\": \"#2a3f5f\"}}, \"ternary\": {\"aaxis\": {\"gridcolor\": \"white\", \"linecolor\": \"white\", \"ticks\": \"\"}, \"baxis\": {\"gridcolor\": \"white\", \"linecolor\": \"white\", \"ticks\": \"\"}, \"bgcolor\": \"#E5ECF6\", \"caxis\": {\"gridcolor\": \"white\", \"linecolor\": \"white\", \"ticks\": \"\"}}, \"title\": {\"x\": 0.05}, \"xaxis\": {\"automargin\": true, \"gridcolor\": \"white\", \"linecolor\": \"white\", \"ticks\": \"\", \"title\": {\"standoff\": 15}, \"zerolinecolor\": \"white\", \"zerolinewidth\": 2}, \"yaxis\": {\"automargin\": true, \"gridcolor\": \"white\", \"linecolor\": \"white\", \"ticks\": \"\", \"title\": {\"standoff\": 15}, \"zerolinecolor\": \"white\", \"zerolinewidth\": 2}}}, \"title\": {\"text\": \"Evaluation Metrics\"}, \"xaxis\": {\"title\": {\"text\": \"Epochs\"}}},\n",
              "                        {\"responsive\": true}\n",
              "                    ).then(function(){\n",
              "                            \n",
              "var gd = document.getElementById('3816cde7-173e-4c3b-b23e-1dfa01bb3419');\n",
              "var x = new MutationObserver(function (mutations, observer) {{\n",
              "        var display = window.getComputedStyle(gd).display;\n",
              "        if (!display || display === 'none') {{\n",
              "            console.log([gd, 'removed!']);\n",
              "            Plotly.purge(gd);\n",
              "            observer.disconnect();\n",
              "        }}\n",
              "}});\n",
              "\n",
              "// Listen for the removal of the full notebook cells\n",
              "var notebookContainer = gd.closest('#notebook-container');\n",
              "if (notebookContainer) {{\n",
              "    x.observe(notebookContainer, {childList: true});\n",
              "}}\n",
              "\n",
              "// Listen for the clearing of the current output cell\n",
              "var outputEl = gd.closest('.output');\n",
              "if (outputEl) {{\n",
              "    x.observe(outputEl, {childList: true});\n",
              "}}\n",
              "\n",
              "                        })\n",
              "                };\n",
              "                \n",
              "            </script>\n",
              "        </div>\n",
              "</body>\n",
              "</html>"
            ]
          },
          "metadata": {
            "tags": []
          }
        }
      ]
    },
    {
      "cell_type": "code",
      "metadata": {
        "trusted": true,
        "id": "_ulS3p0Xya9v",
        "colab": {
          "base_uri": "https://localhost:8080/"
        },
        "outputId": "5a7efc54-1661-433b-f224-942c70fde91f"
      },
      "source": [
        "#Predict the test data.\n",
        "pred = model.predict_classes(test_tensors)\n",
        "\n",
        "#Convert actual labels and predicted labels to numpy arrays.\n",
        "actLabels = y_test_tensor.numpy()\n",
        "predLabels = np.asarray(pred).squeeze()\n"
      ],
      "execution_count": null,
      "outputs": [
        {
          "output_type": "stream",
          "text": [
            "WARNING:tensorflow:From <ipython-input-34-25b738945ccb>:2: Sequential.predict_classes (from tensorflow.python.keras.engine.sequential) is deprecated and will be removed after 2021-01-01.\n",
            "Instructions for updating:\n",
            "Please use instead:* `np.argmax(model.predict(x), axis=-1)`,   if your model does multi-class classification   (e.g. if it uses a `softmax` last-layer activation).* `(model.predict(x) > 0.5).astype(\"int32\")`,   if your model does binary classification   (e.g. if it uses a `sigmoid` last-layer activation).\n"
          ],
          "name": "stdout"
        }
      ]
    },
    {
      "cell_type": "code",
      "metadata": {
        "trusted": true,
        "id": "MHI08_dFya9w",
        "colab": {
          "base_uri": "https://localhost:8080/"
        },
        "outputId": "54632e67-973b-480e-cb1b-3fd8885e9f08"
      },
      "source": [
        "#Print a classification report.\n",
        "from sklearn.metrics import classification_report, confusion_matrix\n",
        "print(classification_report(actLabels, predLabels))"
      ],
      "execution_count": null,
      "outputs": [
        {
          "output_type": "stream",
          "text": [
            "              precision    recall  f1-score   support\n",
            "\n",
            "         0.0       1.00      0.99      0.99       458\n",
            "         1.0       0.98      1.00      0.99       352\n",
            "\n",
            "    accuracy                           0.99       810\n",
            "   macro avg       0.99      0.99      0.99       810\n",
            "weighted avg       0.99      0.99      0.99       810\n",
            "\n"
          ],
          "name": "stdout"
        }
      ]
    },
    {
      "cell_type": "code",
      "metadata": {
        "colab": {
          "base_uri": "https://localhost:8080/",
          "height": 595
        },
        "id": "2u1VcVE2iS-w",
        "outputId": "d850f3c3-c0ab-4683-c0b7-4e9915257042"
      },
      "source": [
        "#Print normalized confusion matrix.\n",
        "!pip install scikit-plot\n",
        "import scikitplot as skplt\n",
        "skplt.metrics.plot_confusion_matrix(actLabels, predLabels, normalize=True)"
      ],
      "execution_count": null,
      "outputs": [
        {
          "output_type": "stream",
          "text": [
            "Collecting scikit-plot\n",
            "  Downloading https://files.pythonhosted.org/packages/7c/47/32520e259340c140a4ad27c1b97050dd3254fdc517b1d59974d47037510e/scikit_plot-0.3.7-py3-none-any.whl\n",
            "Requirement already satisfied: scikit-learn>=0.18 in /usr/local/lib/python3.6/dist-packages (from scikit-plot) (0.22.2.post1)\n",
            "Requirement already satisfied: matplotlib>=1.4.0 in /usr/local/lib/python3.6/dist-packages (from scikit-plot) (3.2.2)\n",
            "Requirement already satisfied: scipy>=0.9 in /usr/local/lib/python3.6/dist-packages (from scikit-plot) (1.4.1)\n",
            "Requirement already satisfied: joblib>=0.10 in /usr/local/lib/python3.6/dist-packages (from scikit-plot) (0.17.0)\n",
            "Requirement already satisfied: numpy>=1.11.0 in /usr/local/lib/python3.6/dist-packages (from scikit-learn>=0.18->scikit-plot) (1.18.5)\n",
            "Requirement already satisfied: cycler>=0.10 in /usr/local/lib/python3.6/dist-packages (from matplotlib>=1.4.0->scikit-plot) (0.10.0)\n",
            "Requirement already satisfied: pyparsing!=2.0.4,!=2.1.2,!=2.1.6,>=2.0.1 in /usr/local/lib/python3.6/dist-packages (from matplotlib>=1.4.0->scikit-plot) (2.4.7)\n",
            "Requirement already satisfied: python-dateutil>=2.1 in /usr/local/lib/python3.6/dist-packages (from matplotlib>=1.4.0->scikit-plot) (2.8.1)\n",
            "Requirement already satisfied: kiwisolver>=1.0.1 in /usr/local/lib/python3.6/dist-packages (from matplotlib>=1.4.0->scikit-plot) (1.3.1)\n",
            "Requirement already satisfied: six in /usr/local/lib/python3.6/dist-packages (from cycler>=0.10->matplotlib>=1.4.0->scikit-plot) (1.15.0)\n",
            "Installing collected packages: scikit-plot\n",
            "Successfully installed scikit-plot-0.3.7\n"
          ],
          "name": "stdout"
        },
        {
          "output_type": "execute_result",
          "data": {
            "text/plain": [
              "<matplotlib.axes._subplots.AxesSubplot at 0x7fa62d3aec18>"
            ]
          },
          "metadata": {
            "tags": []
          },
          "execution_count": 37
        },
        {
          "output_type": "display_data",
          "data": {
            "image/png": "[encoded data removed]",
            "text/plain": [
              "<Figure size 432x288 with 2 Axes>"
            ]
          },
          "metadata": {
            "tags": []
          }
        }
      ]
    },
    {
      "cell_type": "code",
      "metadata": {
        "id": "2KeK3Km0PXGc",
        "colab": {
          "base_uri": "https://localhost:8080/"
        },
        "outputId": "833305da-efff-4fa6-b5e4-4d77f7a31d9f"
      },
      "source": [
        "import sklearn\n",
        "\n",
        "#Print regular confusion matrix.\n",
        "data = {'yActual': actLabels, 'yPredicted': predLabels}\n",
        "df = pd.DataFrame(data, columns=['yActual','yPredicted'])\n",
        "confusionMatrix = pd.crosstab(df['yActual'], df['yPredicted'], rownames=['Actual'], colnames=['Predicted'])\n",
        "print(confusionMatrix)"
      ],
      "execution_count": null,
      "outputs": [
        {
          "output_type": "stream",
          "text": [
            "Predicted    0    1\n",
            "Actual             \n",
            "0.0        452    6\n",
            "1.0          1  351\n"
          ],
          "name": "stdout"
        }
      ]
    }
  ]
}