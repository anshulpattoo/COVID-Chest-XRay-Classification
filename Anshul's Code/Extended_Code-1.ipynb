{
  "nbformat": 4,
  "nbformat_minor": 0,
  "metadata": {
    "kernelspec": {
      "language": "python",
      "display_name": "Python 3",
      "name": "python3"
    },
    "language_info": {
      "pygments_lexer": "ipython3",
      "nbconvert_exporter": "python",
      "version": "3.6.4",
      "file_extension": ".py",
      "codemirror_mode": {
        "name": "ipython",
        "version": 3
      },
      "name": "python",
      "mimetype": "text/x-python"
    },
    "colab": {
      "name": "Extended Code.ipynb",
      "provenance": [],
      "collapsed_sections": [
        "XB2B5g5Zya9n",
        "DipBCH7sya9p",
        "JBtJJ87Qya9q",
        "KHgBIyoiya9r"
      ]
    },
    "accelerator": "GPU"
  },
  "cells": [
    {
      "cell_type": "code",
      "metadata": {
        "_uuid": "8f2839f25d086af736a60e9eeb907d3b93b6e0e5",
        "_cell_guid": "b1076dfc-b9ad-4769-8c92-a6c4dae69d19",
        "trusted": true,
        "id": "LvCoHH7yya9Z"
      },
      "source": [
        "import numpy as np\n",
        "import pandas as pd\n",
        "import matplotlib.pyplot as plt\n",
        "import seaborn as sns\n",
        "plt.style.use('fivethirtyeight')\n",
        "sns.set_style('whitegrid')\n",
        "\n",
        "import tensorflow as tf\n",
        "from tensorflow.keras.models import Sequential\n",
        "import tensorflow.keras.layers as Layers\n",
        "from tensorflow.keras.preprocessing.image import ImageDataGenerator\n",
        "from tensorflow.keras.preprocessing import image\n",
        "from PIL import Image\n",
        "\n",
        "import os\n",
        "from tqdm import tqdm\n",
        "from sklearn.model_selection import train_test_split\n",
        "\n",
        "import warnings\n",
        "warnings.filterwarnings('ignore')"
      ],
      "execution_count": 1,
      "outputs": []
    },
    {
      "cell_type": "code",
      "metadata": {
        "id": "RlW_3-xgzP5y",
        "colab": {
          "base_uri": "https://localhost:8080/"
        },
        "outputId": "53be5abf-203c-46f9-eec3-88477846e5e8"
      },
      "source": [
        " from google.colab import drive\n",
        "drive.mount('/content/drive')"
      ],
      "execution_count": 2,
      "outputs": [
        {
          "output_type": "stream",
          "text": [
            "Mounted at /content/drive\n"
          ],
          "name": "stdout"
        }
      ]
    },
    {
      "cell_type": "code",
      "metadata": {
        "_uuid": "d629ff2d2480ee46fbb7e2d37f6b5fab8052498a",
        "_cell_guid": "79c7e3d0-c299-4dcb-8224-4455121ee9b0",
        "trusted": true,
        "id": "6qEHL-qyya9i",
        "colab": {
          "base_uri": "https://localhost:8080/",
          "height": 204
        },
        "outputId": "1990a24f-ed6d-486f-cc5e-b2d12d1087f3"
      },
      "source": [
        "df = pd.read_csv('/content/drive/MyDrive/COVID Kaggle Data/Chest_xray_Corona_Metadata.csv')\n",
        "df.head()"
      ],
      "execution_count": 3,
      "outputs": [
        {
          "output_type": "execute_result",
          "data": {
            "text/html": [
              "<div>\n",
              "<style scoped>\n",
              "    .dataframe tbody tr th:only-of-type {\n",
              "        vertical-align: middle;\n",
              "    }\n",
              "\n",
              "    .dataframe tbody tr th {\n",
              "        vertical-align: top;\n",
              "    }\n",
              "\n",
              "    .dataframe thead th {\n",
              "        text-align: right;\n",
              "    }\n",
              "</style>\n",
              "<table border=\"1\" class=\"dataframe\">\n",
              "  <thead>\n",
              "    <tr style=\"text-align: right;\">\n",
              "      <th></th>\n",
              "      <th>Unnamed: 0</th>\n",
              "      <th>X_ray_image_name</th>\n",
              "      <th>Label</th>\n",
              "      <th>Dataset_type</th>\n",
              "      <th>Label_2_Virus_category</th>\n",
              "      <th>Label_1_Virus_category</th>\n",
              "    </tr>\n",
              "  </thead>\n",
              "  <tbody>\n",
              "    <tr>\n",
              "      <th>0</th>\n",
              "      <td>0</td>\n",
              "      <td>IM-0128-0001.jpeg</td>\n",
              "      <td>Normal</td>\n",
              "      <td>TRAIN</td>\n",
              "      <td>NaN</td>\n",
              "      <td>NaN</td>\n",
              "    </tr>\n",
              "    <tr>\n",
              "      <th>1</th>\n",
              "      <td>1</td>\n",
              "      <td>IM-0127-0001.jpeg</td>\n",
              "      <td>Normal</td>\n",
              "      <td>TRAIN</td>\n",
              "      <td>NaN</td>\n",
              "      <td>NaN</td>\n",
              "    </tr>\n",
              "    <tr>\n",
              "      <th>2</th>\n",
              "      <td>2</td>\n",
              "      <td>IM-0125-0001.jpeg</td>\n",
              "      <td>Normal</td>\n",
              "      <td>TRAIN</td>\n",
              "      <td>NaN</td>\n",
              "      <td>NaN</td>\n",
              "    </tr>\n",
              "    <tr>\n",
              "      <th>3</th>\n",
              "      <td>3</td>\n",
              "      <td>IM-0122-0001.jpeg</td>\n",
              "      <td>Normal</td>\n",
              "      <td>TRAIN</td>\n",
              "      <td>NaN</td>\n",
              "      <td>NaN</td>\n",
              "    </tr>\n",
              "    <tr>\n",
              "      <th>4</th>\n",
              "      <td>4</td>\n",
              "      <td>IM-0119-0001.jpeg</td>\n",
              "      <td>Normal</td>\n",
              "      <td>TRAIN</td>\n",
              "      <td>NaN</td>\n",
              "      <td>NaN</td>\n",
              "    </tr>\n",
              "  </tbody>\n",
              "</table>\n",
              "</div>"
            ],
            "text/plain": [
              "   Unnamed: 0   X_ray_image_name  ... Label_2_Virus_category Label_1_Virus_category\n",
              "0           0  IM-0128-0001.jpeg  ...                    NaN                    NaN\n",
              "1           1  IM-0127-0001.jpeg  ...                    NaN                    NaN\n",
              "2           2  IM-0125-0001.jpeg  ...                    NaN                    NaN\n",
              "3           3  IM-0122-0001.jpeg  ...                    NaN                    NaN\n",
              "4           4  IM-0119-0001.jpeg  ...                    NaN                    NaN\n",
              "\n",
              "[5 rows x 6 columns]"
            ]
          },
          "metadata": {
            "tags": []
          },
          "execution_count": 3
        }
      ]
    },
    {
      "cell_type": "code",
      "metadata": {
        "trusted": true,
        "id": "CzVzyxasya9k",
        "colab": {
          "base_uri": "https://localhost:8080/"
        },
        "outputId": "ed6693d2-1907-4cee-e67b-f5925678d8bb"
      },
      "source": [
        "#Remove null values and change to 'unknown'\n",
        "df.fillna('unknown', inplace=True)\n",
        "df.isnull().sum()"
      ],
      "execution_count": 4,
      "outputs": [
        {
          "output_type": "execute_result",
          "data": {
            "text/plain": [
              "Unnamed: 0                0\n",
              "X_ray_image_name          0\n",
              "Label                     0\n",
              "Dataset_type              0\n",
              "Label_2_Virus_category    0\n",
              "Label_1_Virus_category    0\n",
              "dtype: int64"
            ]
          },
          "metadata": {
            "tags": []
          },
          "execution_count": 4
        }
      ]
    },
    {
      "cell_type": "code",
      "metadata": {
        "trusted": true,
        "id": "Wtw9W7kQya9l"
      },
      "source": [
        "#Separate train data and test data.\n",
        "train_data = df[df['Dataset_type']=='TRAIN']\n",
        "test_data = df[df['Dataset_type']=='TEST']"
      ],
      "execution_count": 5,
      "outputs": []
    },
    {
      "cell_type": "code",
      "metadata": {
        "trusted": true,
        "id": "DhItVQJRya9m"
      },
      "source": [
        "#Get the path of train and test folders. NOTE to TA: Type in filepath here.\n",
        "train_img_path = '/content/drive/MyDrive/COVID Kaggle Data/Coronahack-Chest-XRay-Dataset/Coronahack-Chest-XRay-Dataset/train'\n",
        "test_img_path = '/content/drive/MyDrive/COVID Kaggle Data/Coronahack-Chest-XRay-Dataset/Coronahack-Chest-XRay-Dataset/test'"
      ],
      "execution_count": 6,
      "outputs": []
    },
    {
      "cell_type": "code",
      "metadata": {
        "trusted": true,
        "id": "KZg6c9BRya9m"
      },
      "source": [
        "#Remove pnuemonia with unknown value (i.e. unknown diagnosis of COVID-19).\n",
        "final_train_data = train_data[(train_data['Label'] == 'Normal') | \n",
        "                              ((train_data['Label'] == 'Pnemonia') &\n",
        "                               (train_data['Label_2_Virus_category'] == 'COVID-19'))]"
      ],
      "execution_count": 7,
      "outputs": []
    },
    {
      "cell_type": "code",
      "metadata": {
        "trusted": true,
        "id": "hPITw_8Eya9n"
      },
      "source": [
        "#Add a target and class feature.\n",
        "final_train_data['class'] = final_train_data.Label.apply(lambda x: 'negative' if x=='Normal' else 'positive')\n",
        "test_data['class'] = test_data.Label.apply(lambda x: 'negative' if x=='Normal' else 'positive')\n",
        "\n",
        "final_train_data['target'] = final_train_data.Label.apply(lambda x: 0 if x=='Normal' else 1)\n",
        "test_data['target'] = test_data.Label.apply(lambda x: 0 if x=='Normal' else 1)"
      ],
      "execution_count": 8,
      "outputs": []
    },
    {
      "cell_type": "code",
      "metadata": {
        "trusted": true,
        "id": "YcFn_hx5ya9n"
      },
      "source": [
        "#Get the important features.\n",
        "final_train_data = final_train_data[['X_ray_image_name', 'class', 'target', 'Label_2_Virus_category']]\n",
        "final_test_data = test_data[['X_ray_image_name', 'class', 'target']]"
      ],
      "execution_count": 9,
      "outputs": []
    },
    {
      "cell_type": "code",
      "metadata": {
        "trusted": true,
        "id": "PxFsFlvYya9n",
        "colab": {
          "base_uri": "https://localhost:8080/"
        },
        "outputId": "f5918463-1f66-488d-aa2c-dc999cfce9ea"
      },
      "source": [
        "test_data['Label'].value_counts()"
      ],
      "execution_count": 10,
      "outputs": [
        {
          "output_type": "execute_result",
          "data": {
            "text/plain": [
              "Pnemonia    390\n",
              "Normal      234\n",
              "Name: Label, dtype: int64"
            ]
          },
          "metadata": {
            "tags": []
          },
          "execution_count": 10
        }
      ]
    },
    {
      "cell_type": "markdown",
      "metadata": {
        "id": "XB2B5g5Zya9n"
      },
      "source": [
        "### DATA AUGMENTATION"
      ]
    },
    {
      "cell_type": "code",
      "metadata": {
        "trusted": true,
        "id": "nEPGgulaya9o"
      },
      "source": [
        "#Create a imagegenerator for for augmentation.\n",
        "datagen =  ImageDataGenerator(\n",
        "  shear_range=0.2,\n",
        "  zoom_range=0.2,\n",
        ")\n",
        "\n",
        "#Function to convert image to array.\n",
        "def read_img(filename, size, path):\n",
        "    img = image.load_img(os.path.join(path, filename), target_size=size)\n",
        "    #Convert image to array.\n",
        "    img = image.img_to_array(img) / 255\n",
        "    return img"
      ],
      "execution_count": 11,
      "outputs": []
    },
    {
      "cell_type": "code",
      "metadata": {
        "_kg_hide-output": true,
        "trusted": true,
        "collapsed": true,
        "id": "tGlu2J4Qya9o",
        "colab": {
          "base_uri": "https://localhost:8080/"
        },
        "outputId": "5f7f5bb3-7e94-4119-fe09-94975a504cbf"
      },
      "source": [
        "#Augment the images labeled with covid-19 to balance the data.\n",
        "corona_df = final_train_data[final_train_data['Label_2_Virus_category'] == 'COVID-19']\n",
        "with_corona_augmented = []\n",
        "\n",
        "#Create a function for augmentation.\n",
        "def augment(name):\n",
        "    img = read_img(name, (224,224), train_img_path)\n",
        "    i = 0\n",
        "    for batch in tqdm(datagen.flow(tf.expand_dims(img, 0), batch_size=32)):\n",
        "        with_corona_augmented.append(tf.squeeze(batch).numpy())\n",
        "        if i == 20:\n",
        "            break\n",
        "        i =i+1\n",
        "\n",
        "#Apply the function.\n",
        "corona_df['X_ray_image_name'].apply(augment)"
      ],
      "execution_count": 12,
      "outputs": [
        {
          "output_type": "stream",
          "text": [
            "19it [00:00, 81.16it/s]\n",
            "20it [00:00, 88.23it/s]\n",
            "11it [00:00, 50.48it/s] \n",
            "19it [00:00, 80.25it/s]\n",
            "20it [00:00, 86.00it/s]\n",
            "18it [00:00, 72.13it/s]\n",
            "19it [00:00, 82.83it/s]\n",
            "20it [00:00, 87.13it/s]\n",
            "20it [00:00, 86.48it/s]\n",
            "18it [00:00, 74.03it/s]\n",
            "20it [00:00, 87.40it/s]\n",
            "20it [00:00, 88.11it/s]\n",
            "20it [00:00, 90.23it/s]\n",
            "20it [00:00, 89.16it/s]\n",
            "20it [00:00, 88.96it/s]\n",
            "20it [00:00, 88.06it/s]\n",
            "19it [00:00, 80.29it/s]\n",
            "20it [00:00, 88.58it/s]\n",
            "18it [00:00, 76.58it/s]\n",
            "20it [00:00, 90.35it/s]\n",
            "20it [00:00, 86.55it/s]\n",
            "20it [00:00, 88.30it/s]\n",
            "19it [00:00, 82.42it/s]\n",
            "18it [00:00, 76.26it/s]\n",
            "19it [00:00, 81.64it/s]\n",
            "20it [00:00, 85.03it/s]\n",
            "20it [00:00, 89.95it/s]\n",
            "19it [00:00, 81.03it/s]\n",
            "19it [00:00, 79.11it/s]\n",
            "20it [00:00, 88.81it/s]\n",
            "20it [00:00, 89.49it/s]\n",
            "20it [00:00, 86.77it/s]\n",
            "20it [00:00, 90.03it/s]\n",
            "20it [00:00, 87.62it/s]\n",
            "20it [00:00, 88.60it/s]\n",
            "19it [00:00, 80.17it/s]\n",
            "19it [00:00, 82.47it/s]\n",
            "20it [00:00, 87.51it/s]\n",
            "20it [00:00, 89.48it/s]\n",
            "20it [00:00, 90.85it/s]\n",
            "20it [00:00, 86.25it/s]\n",
            "20it [00:00, 87.05it/s]\n",
            "18it [00:00, 76.41it/s]\n",
            "20it [00:00, 87.72it/s]\n",
            "20it [00:00, 88.73it/s]\n",
            "19it [00:00, 80.30it/s]\n",
            "20it [00:00, 89.58it/s]\n",
            "19it [00:00, 76.79it/s]\n",
            "20it [00:00, 87.76it/s]\n",
            "19it [00:00, 77.74it/s]\n",
            "20it [00:00, 85.74it/s]\n",
            "19it [00:00, 81.56it/s]\n",
            "18it [00:00, 72.68it/s]\n",
            "20it [00:00, 88.35it/s]\n",
            "20it [00:00, 87.45it/s]\n",
            "19it [00:00, 82.09it/s]\n",
            "20it [00:00, 86.35it/s]\n",
            "19it [00:00, 77.89it/s]\n"
          ],
          "name": "stderr"
        },
        {
          "output_type": "execute_result",
          "data": {
            "text/plain": [
              "5221    None\n",
              "5222    None\n",
              "5223    None\n",
              "5224    None\n",
              "5225    None\n",
              "5226    None\n",
              "5227    None\n",
              "5228    None\n",
              "5229    None\n",
              "5230    None\n",
              "5237    None\n",
              "5238    None\n",
              "5239    None\n",
              "5240    None\n",
              "5242    None\n",
              "5243    None\n",
              "5244    None\n",
              "5245    None\n",
              "5246    None\n",
              "5247    None\n",
              "5248    None\n",
              "5249    None\n",
              "5250    None\n",
              "5251    None\n",
              "5252    None\n",
              "5253    None\n",
              "5254    None\n",
              "5255    None\n",
              "5256    None\n",
              "5257    None\n",
              "5258    None\n",
              "5259    None\n",
              "5260    None\n",
              "5261    None\n",
              "5262    None\n",
              "5263    None\n",
              "5264    None\n",
              "5265    None\n",
              "5266    None\n",
              "5267    None\n",
              "5268    None\n",
              "5269    None\n",
              "5270    None\n",
              "5271    None\n",
              "5272    None\n",
              "5273    None\n",
              "5274    None\n",
              "5275    None\n",
              "5276    None\n",
              "5277    None\n",
              "5278    None\n",
              "5279    None\n",
              "5280    None\n",
              "5281    None\n",
              "5282    None\n",
              "5283    None\n",
              "5284    None\n",
              "5285    None\n",
              "Name: X_ray_image_name, dtype: object"
            ]
          },
          "metadata": {
            "tags": []
          },
          "execution_count": 12
        }
      ]
    },
    {
      "cell_type": "code",
      "metadata": {
        "_kg_hide-output": true,
        "trusted": true,
        "collapsed": true,
        "id": "NdUg6lgbya9o",
        "colab": {
          "base_uri": "https://localhost:8080/"
        },
        "outputId": "3c76d794-e26d-4f35-caea-ab1e3869dfa0"
      },
      "source": [
        "#Extract the image from traing data and test data, then convert it to an array.\n",
        "train_arrays = [] \n",
        "final_train_data['X_ray_image_name'].apply(lambda x: train_arrays.append(read_img(x, (224,224), train_img_path)))\n",
        "test_arrays = []\n",
        "final_test_data['X_ray_image_name'].apply(lambda x: test_arrays.append(read_img(x, (224,224), test_img_path)))"
      ],
      "execution_count": 13,
      "outputs": [
        {
          "output_type": "execute_result",
          "data": {
            "text/plain": [
              "5286    None\n",
              "5287    None\n",
              "5288    None\n",
              "5289    None\n",
              "5290    None\n",
              "        ... \n",
              "5905    None\n",
              "5906    None\n",
              "5907    None\n",
              "5908    None\n",
              "5909    None\n",
              "Name: X_ray_image_name, Length: 624, dtype: object"
            ]
          },
          "metadata": {
            "tags": []
          },
          "execution_count": 13
        }
      ]
    },
    {
      "cell_type": "code",
      "metadata": {
        "trusted": true,
        "id": "Dv5eGUXvya9p"
      },
      "source": [
        "#Concatenate the training data labels and the labels for augmented images.\n",
        "y_train = np.concatenate((np.int64(final_train_data['target'].values), np.ones(len(with_corona_augmented), dtype=np.int64)))"
      ],
      "execution_count": 14,
      "outputs": []
    },
    {
      "cell_type": "markdown",
      "metadata": {
        "id": "DipBCH7sya9p"
      },
      "source": [
        "### CONVERT ALL THE DATA TO TENSORS"
      ]
    },
    {
      "cell_type": "code",
      "metadata": {
        "trusted": true,
        "id": "pFxv5sjlya9p"
      },
      "source": [
        "train_tensors = tf.convert_to_tensor(np.concatenate((np.array(train_arrays), np.array(with_corona_augmented))))\n",
        "test_tensors  = tf.convert_to_tensor(np.array(test_arrays))\n",
        "y_train_tensor = tf.convert_to_tensor(y_train)\n",
        "y_test_tensor = tf.convert_to_tensor(final_test_data['target'].values)"
      ],
      "execution_count": 15,
      "outputs": []
    },
    {
      "cell_type": "markdown",
      "metadata": {
        "id": "JBtJJ87Qya9q"
      },
      "source": [
        "### CREATE A TENSOR DATASET"
      ]
    },
    {
      "cell_type": "code",
      "metadata": {
        "trusted": true,
        "id": "Sa4an9h3ya9r"
      },
      "source": [
        "train_dataset = tf.data.Dataset.from_tensor_slices((train_tensors, y_train_tensor))\n",
        "test_dataset = tf.data.Dataset.from_tensor_slices((test_tensors, y_test_tensor))"
      ],
      "execution_count": 16,
      "outputs": []
    },
    {
      "cell_type": "code",
      "metadata": {
        "trusted": true,
        "id": "L2c-hfjgya9r",
        "colab": {
          "base_uri": "https://localhost:8080/",
          "height": 265
        },
        "outputId": "66bba3e1-d7f8-4fb8-838a-f092469217a6"
      },
      "source": [
        "for i,l in train_dataset.take(1):\n",
        "    plt.imshow(i);"
      ],
      "execution_count": 17,
      "outputs": [
        {
          "output_type": "display_data",
          "data": {
            "image/png": "[encoded data removed]",
            "text/plain": [
              "<Figure size 432x288 with 1 Axes>"
            ]
          },
          "metadata": {
            "tags": [],
            "needs_background": "light"
          }
        }
      ]
    },
    {
      "cell_type": "markdown",
      "metadata": {
        "id": "KHgBIyoiya9r"
      },
      "source": [
        "### GENERATE BATCHES"
      ]
    },
    {
      "cell_type": "code",
      "metadata": {
        "trusted": true,
        "id": "chaZnUnQya9r",
        "colab": {
          "base_uri": "https://localhost:8080/"
        },
        "outputId": "47cc2a4d-5777-42db-997c-7028d81b87a1"
      },
      "source": [
        "BATCH_SIZE = 16\n",
        "BUFFER = 1000\n",
        "\n",
        "train_batches = train_dataset.shuffle(BUFFER).batch(BATCH_SIZE)\n",
        "test_batches = test_dataset.batch(BATCH_SIZE)\n",
        "\n",
        "for i,l in train_batches.take(1):\n",
        "    print('Train Shape per Batch: ',i.shape);\n",
        "for i,l in test_batches.take(1):\n",
        "    print('Test Shape per Batch: ',i.shape);"
      ],
      "execution_count": 18,
      "outputs": [
        {
          "output_type": "stream",
          "text": [
            "Train Shape per Batch:  (16, 224, 224, 3)\n",
            "Test Shape per Batch:  (16, 224, 224, 3)\n"
          ],
          "name": "stdout"
        }
      ]
    },
    {
      "cell_type": "markdown",
      "metadata": {
        "id": "wat7FJ5kya9s"
      },
      "source": [
        "### ATTEMPT OF POSSIBLE WAYS TO EXTEND SOURCE CODE\n",
        "The following cell uses the `kerastuner` library to explore good parameter values for a dense layer. It is clear from the printed results that 128 is a strong value. This is the same as the original value.\n"
      ]
    },
    {
      "cell_type": "code",
      "metadata": {
        "id": "25eBxdGK77Vs"
      },
      "source": [
        "from kerastuner.tuners import RandomSearch\n",
        "from kerastuner.engine.hyperparameters import HyperParameters\n",
        "import keras.layers as Layers\n",
        "from keras.models import Sequential \n",
        "import tensorflow as tf\n",
        "\n",
        "#Define input shape.\n",
        "INPUT_SHAPE = (224,224,3) \n",
        "\n",
        "def build_model(hp): \n",
        "  #Get the pretrained model.\n",
        "  base_model = tf.keras.applications.NASNetMobile(input_shape= INPUT_SHAPE,\n",
        "                                                include_top=False,\n",
        "                                                weights='imagenet')\n",
        "  \n",
        "  #Set all existing layers to not trainable.\n",
        "  base_model.trainable = False\n",
        "\n",
        "  model = Sequential()\n",
        "  model.add(base_model)\n",
        "  model.add(Layers.GlobalAveragePooling2D())\n",
        "  model.add(Layers.Dense((hp.Int(\"input_units\", 64, 256, step = 32))))\n",
        "  model.add(Layers.Dropout(0.2))\n",
        "  model.add(Layers.Dense(1, activation = 'sigmoid'))\n",
        "\n",
        "\n",
        "  model.compile(optimizer='adam',\n",
        "              loss = 'binary_crossentropy',\n",
        "              metrics=['accuracy'])\n",
        "\n",
        "  return model\n",
        "\n",
        "LOG_DIR = \"/content/drive/MyDrive/Colab Notebooks\"\n",
        "\n",
        "#'objective' represents what we are interested in improving. A high value of 'executions_per_trial'\n",
        "#allows us to get a model with strong performance.\n",
        "tuner = RandomSearch(\n",
        "    build_model,\n",
        "    objective = 'val_accuracy',\n",
        "    max_trials = 1,\n",
        "    executions_per_trial = 1,\n",
        "    directory = LOG_DIR\n",
        ")\n",
        "\n",
        "tuner.search(x = train_tensors,\n",
        "             y = y_train_tensor,\n",
        "             epochs = 1,\n",
        "             batch_size = 64,\n",
        "             validation_data = (test_tensors, y_test_tensor))\n",
        "\n",
        "#According to the tuner results the best parameter for the dense layer is 128.\n",
        "print(tuner.results_summary())"
      ],
      "execution_count": null,
      "outputs": []
    },
    {
      "cell_type": "markdown",
      "metadata": {
        "id": "N1rRxRWuj0Sg"
      },
      "source": [
        "Final extension of source code below."
      ]
    },
    {
      "cell_type": "code",
      "metadata": {
        "id": "5t56xEo6g2A8"
      },
      "source": [
        "#Get the pretrained model\n",
        "base_model = tf.keras.applications.NASNetMobile(input_shape= INPUT_SHAPE,\n",
        "                                              include_top=False,\n",
        "                                              weights='imagenet')\n",
        "\n",
        "for layer in base_model.layers[:768]:\n",
        "  layer.trainable = False\n",
        "\n",
        "model = Sequential()\n",
        "model.add(base_model)\n",
        "model.add(Layers.GlobalAveragePooling2D())\n",
        "model.add(Layers.Dense(128))\n",
        "model.add(Layers.Dropout(0.2))\n",
        "model.add(Layers.Dense(128))\n",
        "model.add(Layers.Dense(128))\n",
        "model.add(Layers.Dense(1, activation = 'sigmoid'))\n",
        "\n",
        "model.compile(optimizer='adam',\n",
        "            loss = 'binary_crossentropy',\n",
        "            metrics=['accuracy'])\n",
        "\n",
        "\n",
        "model.fit(train_batches, epochs=15, validation_data=test_batches)"
      ],
      "execution_count": null,
      "outputs": []
    },
    {
      "cell_type": "code",
      "metadata": {
        "trusted": true,
        "id": "_ulS3p0Xya9v"
      },
      "source": [
        "#Predict the test data\n",
        "pred = model.predict_classes(np.array(test_arrays))"
      ],
      "execution_count": null,
      "outputs": []
    },
    {
      "cell_type": "code",
      "metadata": {
        "trusted": true,
        "id": "MHI08_dFya9w"
      },
      "source": [
        "#Print a classification report\n",
        "from sklearn.metrics import classification_report, confusion_matrix\n",
        "print(classification_report(test_data['target'], pred.flatten()))"
      ],
      "execution_count": null,
      "outputs": []
    },
    {
      "cell_type": "code",
      "metadata": {
        "id": "2KeK3Km0PXGc"
      },
      "source": [
        "import sklearn\n",
        "\n",
        "actLabels = test_data['target']\n",
        "predLabels = pred.flatten()\n",
        "\n",
        "#Accuracy, precision, and recall.\n",
        "accuracy = sklearn.metrics.accuracy_score(actLabels, predLabels,  normalize = True)\n",
        "precision = sklearn.metrics.precision_score(actLabels, predLabels)\n",
        "recall = sklearn.metrics.recall_score(actLabels, predLabels)\n",
        "\n",
        "#Confusion matrix.\n",
        "data = {'yActual': actLabels, 'yPredicted': predLabels}\n",
        "df = pd.DataFrame(data, columns=['yActual','yPredicted'])\n",
        "confusionMatrix = pd.crosstab(df['yActual'], df['yPredicted'], rownames=['Actual'], colnames=['Predicted'])\n",
        "print(confusionMatrix)"
      ],
      "execution_count": null,
      "outputs": []
    }
  ]
}